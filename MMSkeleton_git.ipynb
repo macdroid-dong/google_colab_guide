{
  "nbformat": 4,
  "nbformat_minor": 0,
  "metadata": {
    "colab": {
      "name": "MMSkeleton.git.ipynb",
      "provenance": [],
      "collapsed_sections": []
    },
    "kernelspec": {
      "name": "python3",
      "display_name": "Python 3"
    },
    "language_info": {
      "name": "python"
    },
    "accelerator": "GPU"
  },
  "cells": [
    {
      "cell_type": "code",
      "execution_count": 5,
      "metadata": {
        "colab": {
          "base_uri": "https://localhost:8080/"
        },
        "id": "W02_MgN3Mji4",
        "outputId": "61a5d2fa-7523-4687-c0f6-f61fb6322e3a"
      },
      "outputs": [
        {
          "output_type": "stream",
          "name": "stdout",
          "text": [
            "Cloning into 'mmskeleton'...\n",
            "remote: Enumerating objects: 3065, done.\u001b[K\n",
            "remote: Total 3065 (delta 0), reused 0 (delta 0), pack-reused 3065\u001b[K\n",
            "Receiving objects: 100% (3065/3065), 93.34 MiB | 40.14 MiB/s, done.\n",
            "Resolving deltas: 100% (1597/1597), done.\n"
          ]
        }
      ],
      "source": [
        "!git clone https://github.com/open-mmlab/mmskeleton.git"
      ]
    },
    {
      "cell_type": "code",
      "source": [
        "!cd mmskeleton"
      ],
      "metadata": {
        "id": "0J8WtMQtM59v"
      },
      "execution_count": 4,
      "outputs": []
    },
    {
      "cell_type": "code",
      "source": [
        "!nvcc -V"
      ],
      "metadata": {
        "colab": {
          "base_uri": "https://localhost:8080/"
        },
        "id": "vtnh9uliNXCE",
        "outputId": "8359cb42-f7b7-45ac-d42d-b1f2ca04efcb"
      },
      "execution_count": 7,
      "outputs": [
        {
          "output_type": "stream",
          "name": "stdout",
          "text": [
            "nvcc: NVIDIA (R) Cuda compiler driver\n",
            "Copyright (c) 2005-2020 NVIDIA Corporation\n",
            "Built on Mon_Oct_12_20:09:46_PDT_2020\n",
            "Cuda compilation tools, release 11.1, V11.1.105\n",
            "Build cuda_11.1.TC455_06.29190527_0\n"
          ]
        }
      ]
    },
    {
      "cell_type": "code",
      "source": [
        "!wget -c https://repo.anaconda.com/miniconda/Miniconda3-py37_4.10.3-Linux-x86_64.sh"
      ],
      "metadata": {
        "colab": {
          "base_uri": "https://localhost:8080/"
        },
        "id": "D6eO3yDjOTu8",
        "outputId": "b1dfde41-153c-4544-ca69-3f2c1579e8d0"
      },
      "execution_count": 9,
      "outputs": [
        {
          "output_type": "stream",
          "name": "stdout",
          "text": [
            "--2022-05-15 10:17:39--  https://repo.anaconda.com/miniconda/Miniconda3-py37_4.10.3-Linux-x86_64.sh\n",
            "Resolving repo.anaconda.com (repo.anaconda.com)... 104.16.130.3, 104.16.131.3, 2606:4700::6810:8203, ...\n",
            "Connecting to repo.anaconda.com (repo.anaconda.com)|104.16.130.3|:443... connected.\n",
            "HTTP request sent, awaiting response... 200 OK\n",
            "Length: 89026327 (85M) [application/x-sh]\n",
            "Saving to: ‘Miniconda3-py37_4.10.3-Linux-x86_64.sh’\n",
            "\n",
            "Miniconda3-py37_4.1 100%[===================>]  84.90M   280MB/s    in 0.3s    \n",
            "\n",
            "2022-05-15 10:17:40 (280 MB/s) - ‘Miniconda3-py37_4.10.3-Linux-x86_64.sh’ saved [89026327/89026327]\n",
            "\n"
          ]
        }
      ]
    },
    {
      "cell_type": "code",
      "source": [
        "!chmod +x Miniconda3-py37_4.10.3-Linux-x86_64.sh"
      ],
      "metadata": {
        "id": "F7ztl3WNOZZp"
      },
      "execution_count": 10,
      "outputs": []
    },
    {
      "cell_type": "code",
      "source": [
        "!./Miniconda3-py37_4.10.3-Linux-x86_64.sh -b -f -p /usr/local"
      ],
      "metadata": {
        "colab": {
          "base_uri": "https://localhost:8080/"
        },
        "id": "AuSIJD88Oe98",
        "outputId": "f0c253e7-bf27-4d05-caec-3fd94a80918d"
      },
      "execution_count": 11,
      "outputs": [
        {
          "output_type": "stream",
          "name": "stdout",
          "text": [
            "PREFIX=/usr/local\n",
            "Unpacking payload ...\n",
            "Collecting package metadata (current_repodata.json): - \b\b\\ \b\bdone\n",
            "Solving environment: / \b\b- \b\b\\ \b\bdone\n",
            "\n",
            "## Package Plan ##\n",
            "\n",
            "  environment location: /usr/local\n",
            "\n",
            "  added / updated specs:\n",
            "    - _libgcc_mutex==0.1=main\n",
            "    - _openmp_mutex==4.5=1_gnu\n",
            "    - brotlipy==0.7.0=py37h27cfd23_1003\n",
            "    - ca-certificates==2021.7.5=h06a4308_1\n",
            "    - certifi==2021.5.30=py37h06a4308_0\n",
            "    - cffi==1.14.6=py37h400218f_0\n",
            "    - chardet==4.0.0=py37h06a4308_1003\n",
            "    - conda-package-handling==1.7.3=py37h27cfd23_1\n",
            "    - conda==4.10.3=py37h06a4308_0\n",
            "    - cryptography==3.4.7=py37hd23ed53_0\n",
            "    - idna==2.10=pyhd3eb1b0_0\n",
            "    - ld_impl_linux-64==2.35.1=h7274673_9\n",
            "    - libffi==3.3=he6710b0_2\n",
            "    - libgcc-ng==9.3.0=h5101ec6_17\n",
            "    - libgomp==9.3.0=h5101ec6_17\n",
            "    - libstdcxx-ng==9.3.0=hd4cf53a_17\n",
            "    - ncurses==6.2=he6710b0_1\n",
            "    - openssl==1.1.1k=h27cfd23_0\n",
            "    - pip==21.1.3=py37h06a4308_0\n",
            "    - pycosat==0.6.3=py37h27cfd23_0\n",
            "    - pycparser==2.20=py_2\n",
            "    - pyopenssl==20.0.1=pyhd3eb1b0_1\n",
            "    - pysocks==1.7.1=py37_1\n",
            "    - python==3.7.10=h12debd9_4\n",
            "    - readline==8.1=h27cfd23_0\n",
            "    - requests==2.25.1=pyhd3eb1b0_0\n",
            "    - ruamel_yaml==0.15.100=py37h27cfd23_0\n",
            "    - setuptools==52.0.0=py37h06a4308_0\n",
            "    - six==1.16.0=pyhd3eb1b0_0\n",
            "    - sqlite==3.36.0=hc218d9a_0\n",
            "    - tk==8.6.10=hbc83047_0\n",
            "    - tqdm==4.61.2=pyhd3eb1b0_1\n",
            "    - urllib3==1.26.6=pyhd3eb1b0_1\n",
            "    - wheel==0.36.2=pyhd3eb1b0_0\n",
            "    - xz==5.2.5=h7b6447c_0\n",
            "    - yaml==0.2.5=h7b6447c_0\n",
            "    - zlib==1.2.11=h7b6447c_3\n",
            "\n",
            "\n",
            "The following NEW packages will be INSTALLED:\n",
            "\n",
            "  _libgcc_mutex      pkgs/main/linux-64::_libgcc_mutex-0.1-main\n",
            "  _openmp_mutex      pkgs/main/linux-64::_openmp_mutex-4.5-1_gnu\n",
            "  brotlipy           pkgs/main/linux-64::brotlipy-0.7.0-py37h27cfd23_1003\n",
            "  ca-certificates    pkgs/main/linux-64::ca-certificates-2021.7.5-h06a4308_1\n",
            "  certifi            pkgs/main/linux-64::certifi-2021.5.30-py37h06a4308_0\n",
            "  cffi               pkgs/main/linux-64::cffi-1.14.6-py37h400218f_0\n",
            "  chardet            pkgs/main/linux-64::chardet-4.0.0-py37h06a4308_1003\n",
            "  conda              pkgs/main/linux-64::conda-4.10.3-py37h06a4308_0\n",
            "  conda-package-han~ pkgs/main/linux-64::conda-package-handling-1.7.3-py37h27cfd23_1\n",
            "  cryptography       pkgs/main/linux-64::cryptography-3.4.7-py37hd23ed53_0\n",
            "  idna               pkgs/main/noarch::idna-2.10-pyhd3eb1b0_0\n",
            "  ld_impl_linux-64   pkgs/main/linux-64::ld_impl_linux-64-2.35.1-h7274673_9\n",
            "  libffi             pkgs/main/linux-64::libffi-3.3-he6710b0_2\n",
            "  libgcc-ng          pkgs/main/linux-64::libgcc-ng-9.3.0-h5101ec6_17\n",
            "  libgomp            pkgs/main/linux-64::libgomp-9.3.0-h5101ec6_17\n",
            "  libstdcxx-ng       pkgs/main/linux-64::libstdcxx-ng-9.3.0-hd4cf53a_17\n",
            "  ncurses            pkgs/main/linux-64::ncurses-6.2-he6710b0_1\n",
            "  openssl            pkgs/main/linux-64::openssl-1.1.1k-h27cfd23_0\n",
            "  pip                pkgs/main/linux-64::pip-21.1.3-py37h06a4308_0\n",
            "  pycosat            pkgs/main/linux-64::pycosat-0.6.3-py37h27cfd23_0\n",
            "  pycparser          pkgs/main/noarch::pycparser-2.20-py_2\n",
            "  pyopenssl          pkgs/main/noarch::pyopenssl-20.0.1-pyhd3eb1b0_1\n",
            "  pysocks            pkgs/main/linux-64::pysocks-1.7.1-py37_1\n",
            "  python             pkgs/main/linux-64::python-3.7.10-h12debd9_4\n",
            "  readline           pkgs/main/linux-64::readline-8.1-h27cfd23_0\n",
            "  requests           pkgs/main/noarch::requests-2.25.1-pyhd3eb1b0_0\n",
            "  ruamel_yaml        pkgs/main/linux-64::ruamel_yaml-0.15.100-py37h27cfd23_0\n",
            "  setuptools         pkgs/main/linux-64::setuptools-52.0.0-py37h06a4308_0\n",
            "  six                pkgs/main/noarch::six-1.16.0-pyhd3eb1b0_0\n",
            "  sqlite             pkgs/main/linux-64::sqlite-3.36.0-hc218d9a_0\n",
            "  tk                 pkgs/main/linux-64::tk-8.6.10-hbc83047_0\n",
            "  tqdm               pkgs/main/noarch::tqdm-4.61.2-pyhd3eb1b0_1\n",
            "  urllib3            pkgs/main/noarch::urllib3-1.26.6-pyhd3eb1b0_1\n",
            "  wheel              pkgs/main/noarch::wheel-0.36.2-pyhd3eb1b0_0\n",
            "  xz                 pkgs/main/linux-64::xz-5.2.5-h7b6447c_0\n",
            "  yaml               pkgs/main/linux-64::yaml-0.2.5-h7b6447c_0\n",
            "  zlib               pkgs/main/linux-64::zlib-1.2.11-h7b6447c_3\n",
            "\n",
            "\n",
            "Preparing transaction: / \b\b- \b\b\\ \b\b| \b\bdone\n",
            "Executing transaction: - \b\b\\ \b\b| \b\b/ \b\b- \b\b\\ \b\b| \b\b/ \b\b- \b\b\\ \b\b| \b\b/ \b\b- \b\b\\ \b\b| \b\bdone\n",
            "installation finished.\n",
            "WARNING:\n",
            "    You currently have a PYTHONPATH environment variable set. This may cause\n",
            "    unexpected behavior when running the Python interpreter in Miniconda3.\n",
            "    For best results, please verify that your PYTHONPATH only points to\n",
            "    directories of packages that are compatible with the Python interpreter\n",
            "    in Miniconda3: /usr/local\n"
          ]
        }
      ]
    },
    {
      "cell_type": "code",
      "source": [
        "!which python\n",
        "!python -V"
      ],
      "metadata": {
        "colab": {
          "base_uri": "https://localhost:8080/"
        },
        "id": "8cdJzvfnOmCr",
        "outputId": "17304b7e-1cc7-4276-bca2-bbe8c4e6e261"
      },
      "execution_count": 12,
      "outputs": [
        {
          "output_type": "stream",
          "name": "stdout",
          "text": [
            "/usr/local/bin/python\n",
            "Python 3.7.10\n"
          ]
        }
      ]
    },
    {
      "cell_type": "code",
      "source": [
        "!conda install pytorch==1.2.0 torchvision==0.4.0 cudatoolkit=10.0 -c pytorch"
      ],
      "metadata": {
        "colab": {
          "base_uri": "https://localhost:8080/"
        },
        "id": "W8fJKzsbNunT",
        "outputId": "6a423532-be73-4e4e-8b96-08207e9c681f"
      },
      "execution_count": 13,
      "outputs": [
        {
          "output_type": "stream",
          "name": "stdout",
          "text": [
            "Collecting package metadata (current_repodata.json): - \b\b\\ \b\b| \b\b/ \b\b- \b\b\\ \b\b| \b\b/ \b\b- \b\b\\ \b\b| \b\b/ \b\b- \b\b\\ \b\b| \b\b/ \b\b- \b\b\\ \b\b| \b\b/ \b\b- \b\bdone\n",
            "Solving environment: | \b\b/ \b\b- \b\b\\ \b\b| \b\b/ \b\b- \b\bdone\n",
            "\n",
            "## Package Plan ##\n",
            "\n",
            "  environment location: /usr/local\n",
            "\n",
            "  added / updated specs:\n",
            "    - cudatoolkit=10.0\n",
            "    - pytorch==1.2.0\n",
            "    - torchvision==0.4.0\n",
            "\n",
            "\n",
            "The following packages will be downloaded:\n",
            "\n",
            "    package                    |            build\n",
            "    ---------------------------|-----------------\n",
            "    blas-1.0                   |              mkl           6 KB\n",
            "    ca-certificates-2022.4.26  |       h06a4308_0         124 KB\n",
            "    certifi-2021.10.8          |   py37h06a4308_2         151 KB\n",
            "    conda-4.12.0               |   py37h06a4308_0        14.5 MB\n",
            "    cudatoolkit-10.0.130       |                0       261.2 MB\n",
            "    freetype-2.11.0            |       h70c0345_0         618 KB\n",
            "    giflib-5.2.1               |       h7b6447c_0          78 KB\n",
            "    intel-openmp-2021.4.0      |    h06a4308_3561         4.2 MB\n",
            "    jpeg-9e                    |       h7f8727e_0         240 KB\n",
            "    lcms2-2.12                 |       h3be6417_0         312 KB\n",
            "    libpng-1.6.37              |       hbc83047_0         278 KB\n",
            "    libtiff-4.2.0              |       h85742a9_0         502 KB\n",
            "    libwebp-1.2.2              |       h55f646e_0          80 KB\n",
            "    libwebp-base-1.2.2         |       h7f8727e_0         440 KB\n",
            "    lz4-c-1.9.3                |       h295c915_1         185 KB\n",
            "    mkl-2021.4.0               |     h06a4308_640       142.6 MB\n",
            "    mkl-service-2.4.0          |   py37h7f8727e_0          56 KB\n",
            "    mkl_fft-1.3.1              |   py37hd3c417c_0         172 KB\n",
            "    mkl_random-1.2.2           |   py37h51133e4_0         287 KB\n",
            "    ninja-1.10.2               |       h06a4308_5           8 KB\n",
            "    ninja-base-1.10.2          |       hd09550d_5         109 KB\n",
            "    numpy-1.21.5               |   py37he7a7128_2          10 KB\n",
            "    numpy-base-1.21.5          |   py37hf524024_2         4.8 MB\n",
            "    openssl-1.1.1o             |       h7f8727e_0         2.5 MB\n",
            "    pillow-9.0.1               |   py37h22f2fdc_0         652 KB\n",
            "    pytorch-1.2.0              |py3.7_cuda10.0.130_cudnn7.6.2_0       428.0 MB  pytorch\n",
            "    torchvision-0.4.0          |       py37_cu100         9.8 MB  pytorch\n",
            "    zstd-1.4.9                 |       haebb681_0         480 KB\n",
            "    ------------------------------------------------------------\n",
            "                                           Total:       872.2 MB\n",
            "\n",
            "The following NEW packages will be INSTALLED:\n",
            "\n",
            "  blas               pkgs/main/linux-64::blas-1.0-mkl\n",
            "  cudatoolkit        pkgs/main/linux-64::cudatoolkit-10.0.130-0\n",
            "  freetype           pkgs/main/linux-64::freetype-2.11.0-h70c0345_0\n",
            "  giflib             pkgs/main/linux-64::giflib-5.2.1-h7b6447c_0\n",
            "  intel-openmp       pkgs/main/linux-64::intel-openmp-2021.4.0-h06a4308_3561\n",
            "  jpeg               pkgs/main/linux-64::jpeg-9e-h7f8727e_0\n",
            "  lcms2              pkgs/main/linux-64::lcms2-2.12-h3be6417_0\n",
            "  libpng             pkgs/main/linux-64::libpng-1.6.37-hbc83047_0\n",
            "  libtiff            pkgs/main/linux-64::libtiff-4.2.0-h85742a9_0\n",
            "  libwebp            pkgs/main/linux-64::libwebp-1.2.2-h55f646e_0\n",
            "  libwebp-base       pkgs/main/linux-64::libwebp-base-1.2.2-h7f8727e_0\n",
            "  lz4-c              pkgs/main/linux-64::lz4-c-1.9.3-h295c915_1\n",
            "  mkl                pkgs/main/linux-64::mkl-2021.4.0-h06a4308_640\n",
            "  mkl-service        pkgs/main/linux-64::mkl-service-2.4.0-py37h7f8727e_0\n",
            "  mkl_fft            pkgs/main/linux-64::mkl_fft-1.3.1-py37hd3c417c_0\n",
            "  mkl_random         pkgs/main/linux-64::mkl_random-1.2.2-py37h51133e4_0\n",
            "  ninja              pkgs/main/linux-64::ninja-1.10.2-h06a4308_5\n",
            "  ninja-base         pkgs/main/linux-64::ninja-base-1.10.2-hd09550d_5\n",
            "  numpy              pkgs/main/linux-64::numpy-1.21.5-py37he7a7128_2\n",
            "  numpy-base         pkgs/main/linux-64::numpy-base-1.21.5-py37hf524024_2\n",
            "  pillow             pkgs/main/linux-64::pillow-9.0.1-py37h22f2fdc_0\n",
            "  pytorch            pytorch/linux-64::pytorch-1.2.0-py3.7_cuda10.0.130_cudnn7.6.2_0\n",
            "  torchvision        pytorch/linux-64::torchvision-0.4.0-py37_cu100\n",
            "  zstd               pkgs/main/linux-64::zstd-1.4.9-haebb681_0\n",
            "\n",
            "The following packages will be UPDATED:\n",
            "\n",
            "  ca-certificates                       2021.7.5-h06a4308_1 --> 2022.4.26-h06a4308_0\n",
            "  certifi                          2021.5.30-py37h06a4308_0 --> 2021.10.8-py37h06a4308_2\n",
            "  conda                               4.10.3-py37h06a4308_0 --> 4.12.0-py37h06a4308_0\n",
            "  openssl                                 1.1.1k-h27cfd23_0 --> 1.1.1o-h7f8727e_0\n",
            "\n",
            "\n",
            "Proceed ([y]/n)? y\n",
            "\n",
            "\n",
            "Downloading and Extracting Packages\n",
            "lcms2-2.12           | 312 KB    | : 100% 1.0/1 [00:00<00:00, 14.47it/s]\n",
            "pytorch-1.2.0        | 428.0 MB  | :  97% 0.971171654454127/1 [00:04<00:00,  4.88s/it] y\n",
            "y\n",
            "pytorch-1.2.0        | 428.0 MB  | : 100% 1.0/1 [01:08<00:00, 68.32s/it] \n",
            "ninja-base-1.10.2    | 109 KB    | : 100% 1.0/1 [00:00<00:00, 17.47it/s]\n",
            "libwebp-base-1.2.2   | 440 KB    | : 100% 1.0/1 [00:00<00:00, 16.88it/s]\n",
            "freetype-2.11.0      | 618 KB    | : 100% 1.0/1 [00:00<00:00, 15.50it/s]\n",
            "mkl-2021.4.0         | 142.6 MB  | : 100% 1.0/1 [00:05<00:00,  5.74s/it]               \n",
            "zstd-1.4.9           | 480 KB    | : 100% 1.0/1 [00:00<00:00, 14.30it/s]\n",
            "giflib-5.2.1         | 78 KB     | : 100% 1.0/1 [00:00<00:00, 20.03it/s]\n",
            "numpy-1.21.5         | 10 KB     | : 100% 1.0/1 [00:00<00:00, 20.45it/s]\n",
            "torchvision-0.4.0    | 9.8 MB    | : 100% 1.0/1 [00:01<00:00,  1.89s/it]              \n",
            "cudatoolkit-10.0.130 | 261.2 MB  | : 100% 1.0/1 [00:06<00:00,  6.42s/it]               \n",
            "numpy-base-1.21.5    | 4.8 MB    | : 100% 1.0/1 [00:00<00:00,  3.02it/s]\n",
            "mkl_random-1.2.2     | 287 KB    | : 100% 1.0/1 [00:00<00:00, 15.44it/s]\n",
            "libtiff-4.2.0        | 502 KB    | : 100% 1.0/1 [00:00<00:00, 11.45it/s]\n",
            "intel-openmp-2021.4. | 4.2 MB    | : 100% 1.0/1 [00:00<00:00,  4.99it/s]\n",
            "certifi-2021.10.8    | 151 KB    | : 100% 1.0/1 [00:00<00:00, 19.30it/s]\n",
            "libpng-1.6.37        | 278 KB    | : 100% 1.0/1 [00:00<00:00, 17.35it/s]\n",
            "conda-4.12.0         | 14.5 MB   | : 100% 1.0/1 [00:00<00:00,  1.37it/s]               \n",
            "ca-certificates-2022 | 124 KB    | : 100% 1.0/1 [00:00<00:00, 19.23it/s]\n",
            "mkl_fft-1.3.1        | 172 KB    | : 100% 1.0/1 [00:00<00:00, 15.00it/s]\n",
            "blas-1.0             | 6 KB      | : 100% 1.0/1 [00:00<00:00, 22.57it/s]\n",
            "libwebp-1.2.2        | 80 KB     | : 100% 1.0/1 [00:00<00:00, 18.70it/s]\n",
            "pillow-9.0.1         | 652 KB    | : 100% 1.0/1 [00:00<00:00, 11.90it/s]\n",
            "jpeg-9e              | 240 KB    | : 100% 1.0/1 [00:00<00:00, 17.15it/s]\n",
            "ninja-1.10.2         | 8 KB      | : 100% 1.0/1 [00:00<00:00, 21.23it/s]\n",
            "openssl-1.1.1o       | 2.5 MB    | : 100% 1.0/1 [00:00<00:00,  6.18it/s]\n",
            "lz4-c-1.9.3          | 185 KB    | : 100% 1.0/1 [00:00<00:00, 18.34it/s]\n",
            "mkl-service-2.4.0    | 56 KB     | : 100% 1.0/1 [00:00<00:00, 18.49it/s]\n",
            "Preparing transaction: | \b\b/ \b\b- \b\bdone\n",
            "Verifying transaction: | \b\b/ \b\b- \b\b\\ \b\b| \b\b/ \b\b- \b\b\\ \b\b| \b\bdone\n",
            "Executing transaction: - \b\b\\ \b\b| \b\b/ \b\b- \b\b\\ \b\b| \b\b/ \b\b- \b\b\\ \b\b| \b\b/ \b\b- \b\b\\ \b\b| \b\b/ \b\b- \b\b\\ \b\b| \b\b/ \b\b- \b\b\\ \b\b| \b\b/ \b\b- \b\b\\ \b\b| \b\b/ \b\b- \b\b\\ \b\b| \b\bdone\n"
          ]
        }
      ]
    },
    {
      "cell_type": "code",
      "source": [
        "!pip3 install -r requirements.txt\n"
      ],
      "metadata": {
        "colab": {
          "base_uri": "https://localhost:8080/"
        },
        "id": "eDINwyoUM9GN",
        "outputId": "185d384f-185b-42ff-a06b-be14cd939fd2"
      },
      "execution_count": 18,
      "outputs": [
        {
          "output_type": "stream",
          "name": "stdout",
          "text": [
            "Collecting mmcv\n",
            "  Downloading mmcv-1.5.0.tar.gz (530 kB)\n",
            "\u001b[?25l\r\u001b[K     |▋                               | 10 kB 22.1 MB/s eta 0:00:01\r\u001b[K     |█▎                              | 20 kB 25.0 MB/s eta 0:00:01\r\u001b[K     |█▉                              | 30 kB 27.4 MB/s eta 0:00:01\r\u001b[K     |██▌                             | 40 kB 31.0 MB/s eta 0:00:01\r\u001b[K     |███                             | 51 kB 22.5 MB/s eta 0:00:01\r\u001b[K     |███▊                            | 61 kB 24.9 MB/s eta 0:00:01\r\u001b[K     |████▎                           | 71 kB 24.2 MB/s eta 0:00:01\r\u001b[K     |█████                           | 81 kB 24.3 MB/s eta 0:00:01\r\u001b[K     |█████▋                          | 92 kB 26.1 MB/s eta 0:00:01\r\u001b[K     |██████▏                         | 102 kB 26.4 MB/s eta 0:00:01\r\u001b[K     |██████▉                         | 112 kB 26.4 MB/s eta 0:00:01\r\u001b[K     |███████▍                        | 122 kB 26.4 MB/s eta 0:00:01\r\u001b[K     |████████                        | 133 kB 26.4 MB/s eta 0:00:01\r\u001b[K     |████████▋                       | 143 kB 26.4 MB/s eta 0:00:01\r\u001b[K     |█████████▎                      | 153 kB 26.4 MB/s eta 0:00:01\r\u001b[K     |█████████▉                      | 163 kB 26.4 MB/s eta 0:00:01\r\u001b[K     |██████████▌                     | 174 kB 26.4 MB/s eta 0:00:01\r\u001b[K     |███████████▏                    | 184 kB 26.4 MB/s eta 0:00:01\r\u001b[K     |███████████▊                    | 194 kB 26.4 MB/s eta 0:00:01\r\u001b[K     |████████████▍                   | 204 kB 26.4 MB/s eta 0:00:01\r\u001b[K     |█████████████                   | 215 kB 26.4 MB/s eta 0:00:01\r\u001b[K     |█████████████▋                  | 225 kB 26.4 MB/s eta 0:00:01\r\u001b[K     |██████████████▏                 | 235 kB 26.4 MB/s eta 0:00:01\r\u001b[K     |██████████████▉                 | 245 kB 26.4 MB/s eta 0:00:01\r\u001b[K     |███████████████▍                | 256 kB 26.4 MB/s eta 0:00:01\r\u001b[K     |████████████████                | 266 kB 26.4 MB/s eta 0:00:01\r\u001b[K     |████████████████▊               | 276 kB 26.4 MB/s eta 0:00:01\r\u001b[K     |█████████████████▎              | 286 kB 26.4 MB/s eta 0:00:01\r\u001b[K     |██████████████████              | 296 kB 26.4 MB/s eta 0:00:01\r\u001b[K     |██████████████████▌             | 307 kB 26.4 MB/s eta 0:00:01\r\u001b[K     |███████████████████▏            | 317 kB 26.4 MB/s eta 0:00:01\r\u001b[K     |███████████████████▊            | 327 kB 26.4 MB/s eta 0:00:01\r\u001b[K     |████████████████████▍           | 337 kB 26.4 MB/s eta 0:00:01\r\u001b[K     |█████████████████████           | 348 kB 26.4 MB/s eta 0:00:01\r\u001b[K     |█████████████████████▋          | 358 kB 26.4 MB/s eta 0:00:01\r\u001b[K     |██████████████████████▎         | 368 kB 26.4 MB/s eta 0:00:01\r\u001b[K     |██████████████████████▉         | 378 kB 26.4 MB/s eta 0:00:01\r\u001b[K     |███████████████████████▌        | 389 kB 26.4 MB/s eta 0:00:01\r\u001b[K     |████████████████████████        | 399 kB 26.4 MB/s eta 0:00:01\r\u001b[K     |████████████████████████▊       | 409 kB 26.4 MB/s eta 0:00:01\r\u001b[K     |█████████████████████████▎      | 419 kB 26.4 MB/s eta 0:00:01\r\u001b[K     |██████████████████████████      | 430 kB 26.4 MB/s eta 0:00:01\r\u001b[K     |██████████████████████████▌     | 440 kB 26.4 MB/s eta 0:00:01\r\u001b[K     |███████████████████████████▏    | 450 kB 26.4 MB/s eta 0:00:01\r\u001b[K     |███████████████████████████▉    | 460 kB 26.4 MB/s eta 0:00:01\r\u001b[K     |████████████████████████████▍   | 471 kB 26.4 MB/s eta 0:00:01\r\u001b[K     |█████████████████████████████   | 481 kB 26.4 MB/s eta 0:00:01\r\u001b[K     |█████████████████████████████▋  | 491 kB 26.4 MB/s eta 0:00:01\r\u001b[K     |██████████████████████████████▎ | 501 kB 26.4 MB/s eta 0:00:01\r\u001b[K     |██████████████████████████████▉ | 512 kB 26.4 MB/s eta 0:00:01\r\u001b[K     |███████████████████████████████▌| 522 kB 26.4 MB/s eta 0:00:01\r\u001b[K     |████████████████████████████████| 530 kB 26.4 MB/s \n",
            "\u001b[?25hRequirement already satisfied: torch>=1.1 in /usr/local/lib/python3.7/site-packages (from -r requirements.txt (line 2)) (1.2.0)\n",
            "Requirement already satisfied: torchvision in /usr/local/lib/python3.7/site-packages (from -r requirements.txt (line 3)) (0.4.0a0+6b959ee)\n",
            "Collecting lazy_import\n",
            "  Downloading lazy_import-0.2.2.tar.gz (15 kB)\n",
            "Requirement already satisfied: numpy in /usr/local/lib/python3.7/site-packages (from torch>=1.1->-r requirements.txt (line 2)) (1.21.5)\n",
            "Collecting addict\n",
            "  Downloading addict-2.4.0-py3-none-any.whl (3.8 kB)\n",
            "Collecting packaging\n",
            "  Downloading packaging-21.3-py3-none-any.whl (40 kB)\n",
            "\u001b[K     |████████████████████████████████| 40 kB 6.2 MB/s \n",
            "\u001b[?25hRequirement already satisfied: Pillow in /usr/local/lib/python3.7/site-packages (from mmcv->-r requirements.txt (line 1)) (9.0.1)\n",
            "Collecting pyyaml\n",
            "  Downloading PyYAML-6.0-cp37-cp37m-manylinux_2_5_x86_64.manylinux1_x86_64.manylinux_2_12_x86_64.manylinux2010_x86_64.whl (596 kB)\n",
            "\u001b[K     |████████████████████████████████| 596 kB 44.3 MB/s \n",
            "\u001b[?25hCollecting yapf\n",
            "  Downloading yapf-0.32.0-py2.py3-none-any.whl (190 kB)\n",
            "\u001b[K     |████████████████████████████████| 190 kB 54.4 MB/s \n",
            "\u001b[?25hCollecting opencv-python>=3\n",
            "  Downloading opencv_python-4.5.5.64-cp36-abi3-manylinux_2_17_x86_64.manylinux2014_x86_64.whl (60.5 MB)\n",
            "\u001b[K     |████████████████████████████████| 60.5 MB 53 kB/s \n",
            "\u001b[?25hRequirement already satisfied: six in /usr/local/lib/python3.7/site-packages (from torchvision->-r requirements.txt (line 3)) (1.16.0)\n",
            "Collecting pyparsing!=3.0.5,>=2.0.2\n",
            "  Downloading pyparsing-3.0.9-py3-none-any.whl (98 kB)\n",
            "\u001b[K     |████████████████████████████████| 98 kB 9.4 MB/s \n",
            "\u001b[?25hBuilding wheels for collected packages: mmcv, lazy-import\n",
            "  Building wheel for mmcv (setup.py) ... \u001b[?25l\u001b[?25hdone\n",
            "  Created wheel for mmcv: filename=mmcv-1.5.0-py2.py3-none-any.whl size=807179 sha256=86ca020a2bd31c53ea38819cf44bfa3e04a1e7921fd581e3636514cdc2bc82a7\n",
            "  Stored in directory: /root/.cache/pip/wheels/09/b4/88/0fee9e050a776e49b7290c2853e8ec002eeb55d7f4a40cf78f\n",
            "  Building wheel for lazy-import (setup.py) ... \u001b[?25l\u001b[?25hdone\n",
            "  Created wheel for lazy-import: filename=lazy_import-0.2.2-py2.py3-none-any.whl size=16486 sha256=fc54384b30d83b2020761d83572eb9202d8757bd001fc62831ff1803ad93171d\n",
            "  Stored in directory: /root/.cache/pip/wheels/e6/8e/c7/c338956a635caa3b3153cd8e49b183badb75230ecf19144dff\n",
            "Successfully built mmcv lazy-import\n",
            "Installing collected packages: pyparsing, yapf, pyyaml, packaging, opencv-python, addict, mmcv, lazy-import\n",
            "Successfully installed addict-2.4.0 lazy-import-0.2.2 mmcv-1.5.0 opencv-python-4.5.5.64 packaging-21.3 pyparsing-3.0.9 pyyaml-6.0 yapf-0.32.0\n",
            "\u001b[33mWARNING: Running pip as the 'root' user can result in broken permissions and conflicting behaviour with the system package manager. It is recommended to use a virtual environment instead: https://pip.pypa.io/warnings/venv\u001b[0m\n"
          ]
        }
      ]
    },
    {
      "cell_type": "code",
      "source": [
        "!pip install cython"
      ],
      "metadata": {
        "colab": {
          "base_uri": "https://localhost:8080/"
        },
        "id": "6glgZS1aTx0X",
        "outputId": "c8c7ba72-8ded-46a0-a4af-46daecbc9c3e"
      },
      "execution_count": 20,
      "outputs": [
        {
          "output_type": "stream",
          "name": "stdout",
          "text": [
            "Collecting cython\n",
            "  Downloading Cython-0.29.28-cp37-cp37m-manylinux_2_17_x86_64.manylinux2014_x86_64.manylinux_2_24_x86_64.whl (1.9 MB)\n",
            "\u001b[?25l\r\u001b[K     |▏                               | 10 kB 26.8 MB/s eta 0:00:01\r\u001b[K     |▍                               | 20 kB 30.7 MB/s eta 0:00:01\r\u001b[K     |▌                               | 30 kB 37.0 MB/s eta 0:00:01\r\u001b[K     |▊                               | 40 kB 26.9 MB/s eta 0:00:01\r\u001b[K     |▉                               | 51 kB 21.2 MB/s eta 0:00:01\r\u001b[K     |█                               | 61 kB 24.3 MB/s eta 0:00:01\r\u001b[K     |█▏                              | 71 kB 24.0 MB/s eta 0:00:01\r\u001b[K     |█▍                              | 81 kB 25.3 MB/s eta 0:00:01\r\u001b[K     |█▌                              | 92 kB 27.5 MB/s eta 0:00:01\r\u001b[K     |█▊                              | 102 kB 26.0 MB/s eta 0:00:01\r\u001b[K     |█▉                              | 112 kB 26.0 MB/s eta 0:00:01\r\u001b[K     |██                              | 122 kB 26.0 MB/s eta 0:00:01\r\u001b[K     |██▏                             | 133 kB 26.0 MB/s eta 0:00:01\r\u001b[K     |██▍                             | 143 kB 26.0 MB/s eta 0:00:01\r\u001b[K     |██▌                             | 153 kB 26.0 MB/s eta 0:00:01\r\u001b[K     |██▊                             | 163 kB 26.0 MB/s eta 0:00:01\r\u001b[K     |██▉                             | 174 kB 26.0 MB/s eta 0:00:01\r\u001b[K     |███                             | 184 kB 26.0 MB/s eta 0:00:01\r\u001b[K     |███▏                            | 194 kB 26.0 MB/s eta 0:00:01\r\u001b[K     |███▍                            | 204 kB 26.0 MB/s eta 0:00:01\r\u001b[K     |███▌                            | 215 kB 26.0 MB/s eta 0:00:01\r\u001b[K     |███▊                            | 225 kB 26.0 MB/s eta 0:00:01\r\u001b[K     |████                            | 235 kB 26.0 MB/s eta 0:00:01\r\u001b[K     |████                            | 245 kB 26.0 MB/s eta 0:00:01\r\u001b[K     |████▎                           | 256 kB 26.0 MB/s eta 0:00:01\r\u001b[K     |████▍                           | 266 kB 26.0 MB/s eta 0:00:01\r\u001b[K     |████▋                           | 276 kB 26.0 MB/s eta 0:00:01\r\u001b[K     |████▊                           | 286 kB 26.0 MB/s eta 0:00:01\r\u001b[K     |█████                           | 296 kB 26.0 MB/s eta 0:00:01\r\u001b[K     |█████                           | 307 kB 26.0 MB/s eta 0:00:01\r\u001b[K     |█████▎                          | 317 kB 26.0 MB/s eta 0:00:01\r\u001b[K     |█████▍                          | 327 kB 26.0 MB/s eta 0:00:01\r\u001b[K     |█████▋                          | 337 kB 26.0 MB/s eta 0:00:01\r\u001b[K     |█████▊                          | 348 kB 26.0 MB/s eta 0:00:01\r\u001b[K     |██████                          | 358 kB 26.0 MB/s eta 0:00:01\r\u001b[K     |██████                          | 368 kB 26.0 MB/s eta 0:00:01\r\u001b[K     |██████▎                         | 378 kB 26.0 MB/s eta 0:00:01\r\u001b[K     |██████▍                         | 389 kB 26.0 MB/s eta 0:00:01\r\u001b[K     |██████▋                         | 399 kB 26.0 MB/s eta 0:00:01\r\u001b[K     |██████▊                         | 409 kB 26.0 MB/s eta 0:00:01\r\u001b[K     |███████                         | 419 kB 26.0 MB/s eta 0:00:01\r\u001b[K     |███████                         | 430 kB 26.0 MB/s eta 0:00:01\r\u001b[K     |███████▎                        | 440 kB 26.0 MB/s eta 0:00:01\r\u001b[K     |███████▍                        | 450 kB 26.0 MB/s eta 0:00:01\r\u001b[K     |███████▋                        | 460 kB 26.0 MB/s eta 0:00:01\r\u001b[K     |███████▉                        | 471 kB 26.0 MB/s eta 0:00:01\r\u001b[K     |████████                        | 481 kB 26.0 MB/s eta 0:00:01\r\u001b[K     |████████▏                       | 491 kB 26.0 MB/s eta 0:00:01\r\u001b[K     |████████▎                       | 501 kB 26.0 MB/s eta 0:00:01\r\u001b[K     |████████▌                       | 512 kB 26.0 MB/s eta 0:00:01\r\u001b[K     |████████▋                       | 522 kB 26.0 MB/s eta 0:00:01\r\u001b[K     |████████▉                       | 532 kB 26.0 MB/s eta 0:00:01\r\u001b[K     |█████████                       | 542 kB 26.0 MB/s eta 0:00:01\r\u001b[K     |█████████▏                      | 552 kB 26.0 MB/s eta 0:00:01\r\u001b[K     |█████████▎                      | 563 kB 26.0 MB/s eta 0:00:01\r\u001b[K     |█████████▌                      | 573 kB 26.0 MB/s eta 0:00:01\r\u001b[K     |█████████▋                      | 583 kB 26.0 MB/s eta 0:00:01\r\u001b[K     |█████████▉                      | 593 kB 26.0 MB/s eta 0:00:01\r\u001b[K     |██████████                      | 604 kB 26.0 MB/s eta 0:00:01\r\u001b[K     |██████████▏                     | 614 kB 26.0 MB/s eta 0:00:01\r\u001b[K     |██████████▎                     | 624 kB 26.0 MB/s eta 0:00:01\r\u001b[K     |██████████▌                     | 634 kB 26.0 MB/s eta 0:00:01\r\u001b[K     |██████████▋                     | 645 kB 26.0 MB/s eta 0:00:01\r\u001b[K     |██████████▉                     | 655 kB 26.0 MB/s eta 0:00:01\r\u001b[K     |███████████                     | 665 kB 26.0 MB/s eta 0:00:01\r\u001b[K     |███████████▏                    | 675 kB 26.0 MB/s eta 0:00:01\r\u001b[K     |███████████▍                    | 686 kB 26.0 MB/s eta 0:00:01\r\u001b[K     |███████████▌                    | 696 kB 26.0 MB/s eta 0:00:01\r\u001b[K     |███████████▊                    | 706 kB 26.0 MB/s eta 0:00:01\r\u001b[K     |███████████▉                    | 716 kB 26.0 MB/s eta 0:00:01\r\u001b[K     |████████████                    | 727 kB 26.0 MB/s eta 0:00:01\r\u001b[K     |████████████▏                   | 737 kB 26.0 MB/s eta 0:00:01\r\u001b[K     |████████████▍                   | 747 kB 26.0 MB/s eta 0:00:01\r\u001b[K     |████████████▌                   | 757 kB 26.0 MB/s eta 0:00:01\r\u001b[K     |████████████▊                   | 768 kB 26.0 MB/s eta 0:00:01\r\u001b[K     |████████████▉                   | 778 kB 26.0 MB/s eta 0:00:01\r\u001b[K     |█████████████                   | 788 kB 26.0 MB/s eta 0:00:01\r\u001b[K     |█████████████▏                  | 798 kB 26.0 MB/s eta 0:00:01\r\u001b[K     |█████████████▍                  | 808 kB 26.0 MB/s eta 0:00:01\r\u001b[K     |█████████████▌                  | 819 kB 26.0 MB/s eta 0:00:01\r\u001b[K     |█████████████▊                  | 829 kB 26.0 MB/s eta 0:00:01\r\u001b[K     |█████████████▉                  | 839 kB 26.0 MB/s eta 0:00:01\r\u001b[K     |██████████████                  | 849 kB 26.0 MB/s eta 0:00:01\r\u001b[K     |██████████████▏                 | 860 kB 26.0 MB/s eta 0:00:01\r\u001b[K     |██████████████▍                 | 870 kB 26.0 MB/s eta 0:00:01\r\u001b[K     |██████████████▌                 | 880 kB 26.0 MB/s eta 0:00:01\r\u001b[K     |██████████████▊                 | 890 kB 26.0 MB/s eta 0:00:01\r\u001b[K     |██████████████▉                 | 901 kB 26.0 MB/s eta 0:00:01\r\u001b[K     |███████████████                 | 911 kB 26.0 MB/s eta 0:00:01\r\u001b[K     |███████████████▎                | 921 kB 26.0 MB/s eta 0:00:01\r\u001b[K     |███████████████▍                | 931 kB 26.0 MB/s eta 0:00:01\r\u001b[K     |███████████████▋                | 942 kB 26.0 MB/s eta 0:00:01\r\u001b[K     |███████████████▊                | 952 kB 26.0 MB/s eta 0:00:01\r\u001b[K     |████████████████                | 962 kB 26.0 MB/s eta 0:00:01\r\u001b[K     |████████████████                | 972 kB 26.0 MB/s eta 0:00:01\r\u001b[K     |████████████████▎               | 983 kB 26.0 MB/s eta 0:00:01\r\u001b[K     |████████████████▍               | 993 kB 26.0 MB/s eta 0:00:01\r\u001b[K     |████████████████▋               | 1.0 MB 26.0 MB/s eta 0:00:01\r\u001b[K     |████████████████▊               | 1.0 MB 26.0 MB/s eta 0:00:01\r\u001b[K     |█████████████████               | 1.0 MB 26.0 MB/s eta 0:00:01\r\u001b[K     |█████████████████               | 1.0 MB 26.0 MB/s eta 0:00:01\r\u001b[K     |█████████████████▎              | 1.0 MB 26.0 MB/s eta 0:00:01\r\u001b[K     |█████████████████▍              | 1.1 MB 26.0 MB/s eta 0:00:01\r\u001b[K     |█████████████████▋              | 1.1 MB 26.0 MB/s eta 0:00:01\r\u001b[K     |█████████████████▊              | 1.1 MB 26.0 MB/s eta 0:00:01\r\u001b[K     |██████████████████              | 1.1 MB 26.0 MB/s eta 0:00:01\r\u001b[K     |██████████████████              | 1.1 MB 26.0 MB/s eta 0:00:01\r\u001b[K     |██████████████████▎             | 1.1 MB 26.0 MB/s eta 0:00:01\r\u001b[K     |██████████████████▍             | 1.1 MB 26.0 MB/s eta 0:00:01\r\u001b[K     |██████████████████▋             | 1.1 MB 26.0 MB/s eta 0:00:01\r\u001b[K     |██████████████████▊             | 1.1 MB 26.0 MB/s eta 0:00:01\r\u001b[K     |███████████████████             | 1.1 MB 26.0 MB/s eta 0:00:01\r\u001b[K     |███████████████████▏            | 1.2 MB 26.0 MB/s eta 0:00:01\r\u001b[K     |███████████████████▎            | 1.2 MB 26.0 MB/s eta 0:00:01\r\u001b[K     |███████████████████▌            | 1.2 MB 26.0 MB/s eta 0:00:01\r\u001b[K     |███████████████████▋            | 1.2 MB 26.0 MB/s eta 0:00:01\r\u001b[K     |███████████████████▉            | 1.2 MB 26.0 MB/s eta 0:00:01\r\u001b[K     |████████████████████            | 1.2 MB 26.0 MB/s eta 0:00:01\r\u001b[K     |████████████████████▏           | 1.2 MB 26.0 MB/s eta 0:00:01\r\u001b[K     |████████████████████▎           | 1.2 MB 26.0 MB/s eta 0:00:01\r\u001b[K     |████████████████████▌           | 1.2 MB 26.0 MB/s eta 0:00:01\r\u001b[K     |████████████████████▋           | 1.2 MB 26.0 MB/s eta 0:00:01\r\u001b[K     |████████████████████▉           | 1.3 MB 26.0 MB/s eta 0:00:01\r\u001b[K     |█████████████████████           | 1.3 MB 26.0 MB/s eta 0:00:01\r\u001b[K     |█████████████████████▏          | 1.3 MB 26.0 MB/s eta 0:00:01\r\u001b[K     |█████████████████████▎          | 1.3 MB 26.0 MB/s eta 0:00:01\r\u001b[K     |█████████████████████▌          | 1.3 MB 26.0 MB/s eta 0:00:01\r\u001b[K     |█████████████████████▋          | 1.3 MB 26.0 MB/s eta 0:00:01\r\u001b[K     |█████████████████████▉          | 1.3 MB 26.0 MB/s eta 0:00:01\r\u001b[K     |██████████████████████          | 1.3 MB 26.0 MB/s eta 0:00:01\r\u001b[K     |██████████████████████▏         | 1.3 MB 26.0 MB/s eta 0:00:01\r\u001b[K     |██████████████████████▎         | 1.4 MB 26.0 MB/s eta 0:00:01\r\u001b[K     |██████████████████████▌         | 1.4 MB 26.0 MB/s eta 0:00:01\r\u001b[K     |██████████████████████▊         | 1.4 MB 26.0 MB/s eta 0:00:01\r\u001b[K     |██████████████████████▉         | 1.4 MB 26.0 MB/s eta 0:00:01\r\u001b[K     |███████████████████████         | 1.4 MB 26.0 MB/s eta 0:00:01\r\u001b[K     |███████████████████████▏        | 1.4 MB 26.0 MB/s eta 0:00:01\r\u001b[K     |███████████████████████▍        | 1.4 MB 26.0 MB/s eta 0:00:01\r\u001b[K     |███████████████████████▌        | 1.4 MB 26.0 MB/s eta 0:00:01\r\u001b[K     |███████████████████████▊        | 1.4 MB 26.0 MB/s eta 0:00:01\r\u001b[K     |███████████████████████▉        | 1.4 MB 26.0 MB/s eta 0:00:01\r\u001b[K     |████████████████████████        | 1.5 MB 26.0 MB/s eta 0:00:01\r\u001b[K     |████████████████████████▏       | 1.5 MB 26.0 MB/s eta 0:00:01\r\u001b[K     |████████████████████████▍       | 1.5 MB 26.0 MB/s eta 0:00:01\r\u001b[K     |████████████████████████▌       | 1.5 MB 26.0 MB/s eta 0:00:01\r\u001b[K     |████████████████████████▊       | 1.5 MB 26.0 MB/s eta 0:00:01\r\u001b[K     |████████████████████████▉       | 1.5 MB 26.0 MB/s eta 0:00:01\r\u001b[K     |█████████████████████████       | 1.5 MB 26.0 MB/s eta 0:00:01\r\u001b[K     |█████████████████████████▏      | 1.5 MB 26.0 MB/s eta 0:00:01\r\u001b[K     |█████████████████████████▍      | 1.5 MB 26.0 MB/s eta 0:00:01\r\u001b[K     |█████████████████████████▌      | 1.5 MB 26.0 MB/s eta 0:00:01\r\u001b[K     |█████████████████████████▊      | 1.6 MB 26.0 MB/s eta 0:00:01\r\u001b[K     |█████████████████████████▉      | 1.6 MB 26.0 MB/s eta 0:00:01\r\u001b[K     |██████████████████████████      | 1.6 MB 26.0 MB/s eta 0:00:01\r\u001b[K     |██████████████████████████▏     | 1.6 MB 26.0 MB/s eta 0:00:01\r\u001b[K     |██████████████████████████▍     | 1.6 MB 26.0 MB/s eta 0:00:01\r\u001b[K     |██████████████████████████▋     | 1.6 MB 26.0 MB/s eta 0:00:01\r\u001b[K     |██████████████████████████▊     | 1.6 MB 26.0 MB/s eta 0:00:01\r\u001b[K     |███████████████████████████     | 1.6 MB 26.0 MB/s eta 0:00:01\r\u001b[K     |███████████████████████████     | 1.6 MB 26.0 MB/s eta 0:00:01\r\u001b[K     |███████████████████████████▎    | 1.6 MB 26.0 MB/s eta 0:00:01\r\u001b[K     |███████████████████████████▍    | 1.7 MB 26.0 MB/s eta 0:00:01\r\u001b[K     |███████████████████████████▋    | 1.7 MB 26.0 MB/s eta 0:00:01\r\u001b[K     |███████████████████████████▊    | 1.7 MB 26.0 MB/s eta 0:00:01\r\u001b[K     |████████████████████████████    | 1.7 MB 26.0 MB/s eta 0:00:01\r\u001b[K     |████████████████████████████    | 1.7 MB 26.0 MB/s eta 0:00:01\r\u001b[K     |████████████████████████████▎   | 1.7 MB 26.0 MB/s eta 0:00:01\r\u001b[K     |████████████████████████████▍   | 1.7 MB 26.0 MB/s eta 0:00:01\r\u001b[K     |████████████████████████████▋   | 1.7 MB 26.0 MB/s eta 0:00:01\r\u001b[K     |████████████████████████████▊   | 1.7 MB 26.0 MB/s eta 0:00:01\r\u001b[K     |█████████████████████████████   | 1.8 MB 26.0 MB/s eta 0:00:01\r\u001b[K     |█████████████████████████████   | 1.8 MB 26.0 MB/s eta 0:00:01\r\u001b[K     |█████████████████████████████▎  | 1.8 MB 26.0 MB/s eta 0:00:01\r\u001b[K     |█████████████████████████████▍  | 1.8 MB 26.0 MB/s eta 0:00:01\r\u001b[K     |█████████████████████████████▋  | 1.8 MB 26.0 MB/s eta 0:00:01\r\u001b[K     |█████████████████████████████▊  | 1.8 MB 26.0 MB/s eta 0:00:01\r\u001b[K     |██████████████████████████████  | 1.8 MB 26.0 MB/s eta 0:00:01\r\u001b[K     |██████████████████████████████▏ | 1.8 MB 26.0 MB/s eta 0:00:01\r\u001b[K     |██████████████████████████████▎ | 1.8 MB 26.0 MB/s eta 0:00:01\r\u001b[K     |██████████████████████████████▌ | 1.8 MB 26.0 MB/s eta 0:00:01\r\u001b[K     |██████████████████████████████▋ | 1.9 MB 26.0 MB/s eta 0:00:01\r\u001b[K     |██████████████████████████████▉ | 1.9 MB 26.0 MB/s eta 0:00:01\r\u001b[K     |███████████████████████████████ | 1.9 MB 26.0 MB/s eta 0:00:01\r\u001b[K     |███████████████████████████████▏| 1.9 MB 26.0 MB/s eta 0:00:01\r\u001b[K     |███████████████████████████████▎| 1.9 MB 26.0 MB/s eta 0:00:01\r\u001b[K     |███████████████████████████████▌| 1.9 MB 26.0 MB/s eta 0:00:01\r\u001b[K     |███████████████████████████████▋| 1.9 MB 26.0 MB/s eta 0:00:01\r\u001b[K     |███████████████████████████████▉| 1.9 MB 26.0 MB/s eta 0:00:01\r\u001b[K     |████████████████████████████████| 1.9 MB 26.0 MB/s eta 0:00:01\r\u001b[K     |████████████████████████████████| 1.9 MB 26.0 MB/s \n",
            "\u001b[?25hInstalling collected packages: cython\n",
            "Successfully installed cython-0.29.28\n",
            "\u001b[33mWARNING: Running pip as the 'root' user can result in broken permissions and conflicting behaviour with the system package manager. It is recommended to use a virtual environment instead: https://pip.pypa.io/warnings/venv\u001b[0m\n"
          ]
        }
      ]
    },
    {
      "cell_type": "code",
      "source": [
        "!sudo lsb_release -a\n",
        "!nvidia-smi\n",
        "!cat /usr/local/cuda/version.txt"
      ],
      "metadata": {
        "colab": {
          "base_uri": "https://localhost:8080/"
        },
        "id": "AyUWZitMVANN",
        "outputId": "1bf297bd-f7d3-40ff-f450-7a2face6ad18"
      },
      "execution_count": 3,
      "outputs": [
        {
          "output_type": "stream",
          "name": "stdout",
          "text": [
            "No LSB modules are available.\n",
            "Distributor ID:\tUbuntu\n",
            "Description:\tUbuntu 18.04.5 LTS\n",
            "Release:\t18.04\n",
            "Codename:\tbionic\n",
            "Sun May 15 10:50:52 2022       \n",
            "+-----------------------------------------------------------------------------+\n",
            "| NVIDIA-SMI 460.32.03    Driver Version: 460.32.03    CUDA Version: 11.2     |\n",
            "|-------------------------------+----------------------+----------------------+\n",
            "| GPU  Name        Persistence-M| Bus-Id        Disp.A | Volatile Uncorr. ECC |\n",
            "| Fan  Temp  Perf  Pwr:Usage/Cap|         Memory-Usage | GPU-Util  Compute M. |\n",
            "|                               |                      |               MIG M. |\n",
            "|===============================+======================+======================|\n",
            "|   0  Tesla T4            Off  | 00000000:00:04.0 Off |                    0 |\n",
            "| N/A   37C    P8     9W /  70W |      0MiB / 15109MiB |      0%      Default |\n",
            "|                               |                      |                  N/A |\n",
            "+-------------------------------+----------------------+----------------------+\n",
            "                                                                               \n",
            "+-----------------------------------------------------------------------------+\n",
            "| Processes:                                                                  |\n",
            "|  GPU   GI   CI        PID   Type   Process name                  GPU Memory |\n",
            "|        ID   ID                                                   Usage      |\n",
            "|=============================================================================|\n",
            "|  No running processes found                                                 |\n",
            "+-----------------------------------------------------------------------------+\n",
            "cat: /usr/local/cuda/version.txt: No such file or directory\n"
          ]
        }
      ]
    },
    {
      "cell_type": "code",
      "source": [
        "!python setup.py develop"
      ],
      "metadata": {
        "colab": {
          "base_uri": "https://localhost:8080/"
        },
        "id": "8zBjZjrHTi6j",
        "outputId": "e38a2cbd-faac-443b-94e7-d151dfcee950"
      },
      "execution_count": 4,
      "outputs": [
        {
          "output_type": "stream",
          "name": "stdout",
          "text": [
            "python3: can't open file 'setup.py': [Errno 2] No such file or directory\n"
          ]
        }
      ]
    }
  ]
}