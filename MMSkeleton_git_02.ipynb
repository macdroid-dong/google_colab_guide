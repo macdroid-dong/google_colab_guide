{
  "nbformat": 4,
  "nbformat_minor": 0,
  "metadata": {
    "colab": {
      "name": "MMSkeleton.git.ipynb",
      "provenance": [],
      "collapsed_sections": []
    },
    "kernelspec": {
      "name": "python3",
      "display_name": "Python 3"
    },
    "language_info": {
      "name": "python"
    },
    "accelerator": "GPU"
  },
  "cells": [
    {
      "cell_type": "code",
      "execution_count": 4,
      "metadata": {
        "colab": {
          "base_uri": "https://localhost:8080/"
        },
        "id": "W02_MgN3Mji4",
        "outputId": "c4711c18-fe36-438d-a0a6-65d143cc2c81"
      },
      "outputs": [
        {
          "output_type": "stream",
          "name": "stdout",
          "text": [
            "Cloning into 'mmskeleton'...\n",
            "remote: Enumerating objects: 3065, done.\u001b[K\n",
            "remote: Total 3065 (delta 0), reused 0 (delta 0), pack-reused 3065\u001b[K\n",
            "Receiving objects: 100% (3065/3065), 93.34 MiB | 33.98 MiB/s, done.\n",
            "Resolving deltas: 100% (1597/1597), done.\n"
          ]
        }
      ],
      "source": [
        "!git clone https://github.com/open-mmlab/mmskeleton.git"
      ]
    },
    {
      "cell_type": "code",
      "source": [
        "!cd mmskeleton\n",
        "\n",
        "import os\n",
        "os.chdir(\"mmskeleton/\")\n",
        "!ls "
      ],
      "metadata": {
        "colab": {
          "base_uri": "https://localhost:8080/"
        },
        "id": "0J8WtMQtM59v",
        "outputId": "1d496740-0cf0-4564-838f-0c9cfa9d0a35"
      },
      "execution_count": 11,
      "outputs": [
        {
          "output_type": "stream",
          "name": "stdout",
          "text": [
            "checkpoints  deprecated  mmskeleton\t README.md\t   setup.py\n",
            "configs      doc\t mmskl.py\t requirements.txt  tools\n",
            "demo\t     LICENSE\t pyproject.toml  resource\n"
          ]
        }
      ]
    },
    {
      "cell_type": "code",
      "source": [
        "!wget -c https://repo.anaconda.com/miniconda/Miniconda3-py37_4.10.3-Linux-x86_64.sh\n",
        "!chmod +x Miniconda3-py37_4.10.3-Linux-x86_64.sh\n",
        "!./Miniconda3-py37_4.10.3-Linux-x86_64.sh -b -f -p /usr/local"
      ],
      "metadata": {
        "colab": {
          "base_uri": "https://localhost:8080/"
        },
        "id": "D6eO3yDjOTu8",
        "outputId": "20cea499-8e6d-42da-931f-bed40d7c7280"
      },
      "execution_count": 8,
      "outputs": [
        {
          "output_type": "stream",
          "name": "stdout",
          "text": [
            "--2022-05-15 11:01:49--  https://repo.anaconda.com/miniconda/Miniconda3-py37_4.10.3-Linux-x86_64.sh\n",
            "Resolving repo.anaconda.com (repo.anaconda.com)... 104.16.130.3, 104.16.131.3, 2606:4700::6810:8303, ...\n",
            "Connecting to repo.anaconda.com (repo.anaconda.com)|104.16.130.3|:443... connected.\n",
            "HTTP request sent, awaiting response... 200 OK\n",
            "Length: 89026327 (85M) [application/x-sh]\n",
            "Saving to: ‘Miniconda3-py37_4.10.3-Linux-x86_64.sh’\n",
            "\n",
            "Miniconda3-py37_4.1 100%[===================>]  84.90M   288MB/s    in 0.3s    \n",
            "\n",
            "2022-05-15 11:01:50 (288 MB/s) - ‘Miniconda3-py37_4.10.3-Linux-x86_64.sh’ saved [89026327/89026327]\n",
            "\n"
          ]
        }
      ]
    },
    {
      "cell_type": "code",
      "source": [
        "!pip3 install torch torchvision torchaudio --extra-index-url https://download.pytorch.org/whl/cu113"
      ],
      "metadata": {
        "colab": {
          "base_uri": "https://localhost:8080/"
        },
        "id": "8DU7CtKRzgOd",
        "outputId": "a7f42348-b910-4126-f8bc-e4d17b77c534"
      },
      "execution_count": 12,
      "outputs": [
        {
          "output_type": "stream",
          "name": "stdout",
          "text": [
            "Looking in indexes: https://pypi.org/simple, https://download.pytorch.org/whl/cu113\n",
            "Requirement already satisfied: torch in /usr/local/lib/python3.7/dist-packages (1.11.0+cu113)\n",
            "Requirement already satisfied: torchvision in /usr/local/lib/python3.7/dist-packages (0.12.0+cu113)\n",
            "Requirement already satisfied: torchaudio in /usr/local/lib/python3.7/dist-packages (0.11.0+cu113)\n",
            "Requirement already satisfied: typing-extensions in /usr/local/lib/python3.7/dist-packages (from torch) (4.2.0)\n",
            "Requirement already satisfied: requests in /usr/local/lib/python3.7/dist-packages (from torchvision) (2.23.0)\n",
            "Requirement already satisfied: pillow!=8.3.*,>=5.3.0 in /usr/local/lib/python3.7/dist-packages (from torchvision) (7.1.2)\n",
            "Requirement already satisfied: numpy in /usr/local/lib/python3.7/dist-packages (from torchvision) (1.21.6)\n",
            "Requirement already satisfied: idna<3,>=2.5 in /usr/local/lib/python3.7/dist-packages (from requests->torchvision) (2.10)\n",
            "Requirement already satisfied: chardet<4,>=3.0.2 in /usr/local/lib/python3.7/dist-packages (from requests->torchvision) (3.0.4)\n",
            "Requirement already satisfied: urllib3!=1.25.0,!=1.25.1,<1.26,>=1.21.1 in /usr/local/lib/python3.7/dist-packages (from requests->torchvision) (1.24.3)\n",
            "Requirement already satisfied: certifi>=2017.4.17 in /usr/local/lib/python3.7/dist-packages (from requests->torchvision) (2021.10.8)\n"
          ]
        }
      ]
    },
    {
      "cell_type": "code",
      "source": [
        "!conda install pytorch torchvision cudatoolkit=10.2 -c pytorch"
      ],
      "metadata": {
        "colab": {
          "base_uri": "https://localhost:8080/"
        },
        "id": "W8fJKzsbNunT",
        "outputId": "30772498-9ee1-4007-f8ce-c9240aac5394"
      },
      "execution_count": 14,
      "outputs": [
        {
          "output_type": "stream",
          "name": "stdout",
          "text": [
            "Collecting package metadata (current_repodata.json): - \b\b\\ \b\b| \b\b/ \b\b- \b\b\\ \b\b| \b\b/ \b\b- \b\b\\ \b\b| \b\bdone\n",
            "Solving environment: - \b\b\\ \b\b| \b\b/ \b\b- \b\b\\ \b\b| \b\b/ \b\b- \b\b\\ \b\b| \b\b/ \b\b- \b\b\\ \b\bdone\n",
            "\n",
            "## Package Plan ##\n",
            "\n",
            "  environment location: /usr/local\n",
            "\n",
            "  added / updated specs:\n",
            "    - cudatoolkit=10.2\n",
            "    - pytorch\n",
            "    - torchvision\n",
            "\n",
            "\n",
            "The following packages will be downloaded:\n",
            "\n",
            "    package                    |            build\n",
            "    ---------------------------|-----------------\n",
            "    blas-1.0                   |              mkl           6 KB\n",
            "    bzip2-1.0.8                |       h7b6447c_0          78 KB\n",
            "    ca-certificates-2022.4.26  |       h06a4308_0         124 KB\n",
            "    certifi-2021.10.8          |   py37h06a4308_2         151 KB\n",
            "    conda-4.12.0               |   py37h06a4308_0        14.5 MB\n",
            "    cudatoolkit-10.2.89        |       hfd86e86_1       365.1 MB\n",
            "    ffmpeg-4.3                 |       hf484d3e_0         9.9 MB  pytorch\n",
            "    freetype-2.11.0            |       h70c0345_0         618 KB\n",
            "    giflib-5.2.1               |       h7b6447c_0          78 KB\n",
            "    gmp-6.2.1                  |       h2531618_2         539 KB\n",
            "    gnutls-3.6.15              |       he1e5248_0         1.0 MB\n",
            "    intel-openmp-2021.4.0      |    h06a4308_3561         4.2 MB\n",
            "    jpeg-9e                    |       h7f8727e_0         240 KB\n",
            "    lame-3.100                 |       h7b6447c_0         323 KB\n",
            "    lcms2-2.12                 |       h3be6417_0         312 KB\n",
            "    libiconv-1.16              |       h7f8727e_2         736 KB\n",
            "    libidn2-2.3.2              |       h7f8727e_0          81 KB\n",
            "    libpng-1.6.37              |       hbc83047_0         278 KB\n",
            "    libtasn1-4.16.0            |       h27cfd23_0          58 KB\n",
            "    libtiff-4.2.0              |       h85742a9_0         502 KB\n",
            "    libunistring-0.9.10        |       h27cfd23_0         536 KB\n",
            "    libuv-1.40.0               |       h7b6447c_0         736 KB\n",
            "    libwebp-1.2.2              |       h55f646e_0          80 KB\n",
            "    libwebp-base-1.2.2         |       h7f8727e_0         440 KB\n",
            "    lz4-c-1.9.3                |       h295c915_1         185 KB\n",
            "    mkl-2021.4.0               |     h06a4308_640       142.6 MB\n",
            "    mkl-service-2.4.0          |   py37h7f8727e_0          56 KB\n",
            "    mkl_fft-1.3.1              |   py37hd3c417c_0         172 KB\n",
            "    mkl_random-1.2.2           |   py37h51133e4_0         287 KB\n",
            "    nettle-3.7.3               |       hbbd107a_1         809 KB\n",
            "    numpy-1.21.5               |   py37he7a7128_2          10 KB\n",
            "    numpy-base-1.21.5          |   py37hf524024_2         4.8 MB\n",
            "    openh264-2.1.1             |       h4ff587b_0         711 KB\n",
            "    openssl-1.1.1o             |       h7f8727e_0         2.5 MB\n",
            "    pillow-9.0.1               |   py37h22f2fdc_0         652 KB\n",
            "    pytorch-1.11.0             |py3.7_cuda10.2_cudnn7.6.5_0       622.9 MB  pytorch\n",
            "    pytorch-mutex-1.0          |             cuda           3 KB  pytorch\n",
            "    torchvision-0.12.0         |       py37_cu102        27.3 MB  pytorch\n",
            "    typing_extensions-4.1.1    |     pyh06a4308_0          28 KB\n",
            "    zstd-1.4.9                 |       haebb681_0         480 KB\n",
            "    ------------------------------------------------------------\n",
            "                                           Total:        1.18 GB\n",
            "\n",
            "The following NEW packages will be INSTALLED:\n",
            "\n",
            "  blas               pkgs/main/linux-64::blas-1.0-mkl\n",
            "  bzip2              pkgs/main/linux-64::bzip2-1.0.8-h7b6447c_0\n",
            "  cudatoolkit        pkgs/main/linux-64::cudatoolkit-10.2.89-hfd86e86_1\n",
            "  ffmpeg             pytorch/linux-64::ffmpeg-4.3-hf484d3e_0\n",
            "  freetype           pkgs/main/linux-64::freetype-2.11.0-h70c0345_0\n",
            "  giflib             pkgs/main/linux-64::giflib-5.2.1-h7b6447c_0\n",
            "  gmp                pkgs/main/linux-64::gmp-6.2.1-h2531618_2\n",
            "  gnutls             pkgs/main/linux-64::gnutls-3.6.15-he1e5248_0\n",
            "  intel-openmp       pkgs/main/linux-64::intel-openmp-2021.4.0-h06a4308_3561\n",
            "  jpeg               pkgs/main/linux-64::jpeg-9e-h7f8727e_0\n",
            "  lame               pkgs/main/linux-64::lame-3.100-h7b6447c_0\n",
            "  lcms2              pkgs/main/linux-64::lcms2-2.12-h3be6417_0\n",
            "  libiconv           pkgs/main/linux-64::libiconv-1.16-h7f8727e_2\n",
            "  libidn2            pkgs/main/linux-64::libidn2-2.3.2-h7f8727e_0\n",
            "  libpng             pkgs/main/linux-64::libpng-1.6.37-hbc83047_0\n",
            "  libtasn1           pkgs/main/linux-64::libtasn1-4.16.0-h27cfd23_0\n",
            "  libtiff            pkgs/main/linux-64::libtiff-4.2.0-h85742a9_0\n",
            "  libunistring       pkgs/main/linux-64::libunistring-0.9.10-h27cfd23_0\n",
            "  libuv              pkgs/main/linux-64::libuv-1.40.0-h7b6447c_0\n",
            "  libwebp            pkgs/main/linux-64::libwebp-1.2.2-h55f646e_0\n",
            "  libwebp-base       pkgs/main/linux-64::libwebp-base-1.2.2-h7f8727e_0\n",
            "  lz4-c              pkgs/main/linux-64::lz4-c-1.9.3-h295c915_1\n",
            "  mkl                pkgs/main/linux-64::mkl-2021.4.0-h06a4308_640\n",
            "  mkl-service        pkgs/main/linux-64::mkl-service-2.4.0-py37h7f8727e_0\n",
            "  mkl_fft            pkgs/main/linux-64::mkl_fft-1.3.1-py37hd3c417c_0\n",
            "  mkl_random         pkgs/main/linux-64::mkl_random-1.2.2-py37h51133e4_0\n",
            "  nettle             pkgs/main/linux-64::nettle-3.7.3-hbbd107a_1\n",
            "  numpy              pkgs/main/linux-64::numpy-1.21.5-py37he7a7128_2\n",
            "  numpy-base         pkgs/main/linux-64::numpy-base-1.21.5-py37hf524024_2\n",
            "  openh264           pkgs/main/linux-64::openh264-2.1.1-h4ff587b_0\n",
            "  pillow             pkgs/main/linux-64::pillow-9.0.1-py37h22f2fdc_0\n",
            "  pytorch            pytorch/linux-64::pytorch-1.11.0-py3.7_cuda10.2_cudnn7.6.5_0\n",
            "  pytorch-mutex      pytorch/noarch::pytorch-mutex-1.0-cuda\n",
            "  torchvision        pytorch/linux-64::torchvision-0.12.0-py37_cu102\n",
            "  typing_extensions  pkgs/main/noarch::typing_extensions-4.1.1-pyh06a4308_0\n",
            "  zstd               pkgs/main/linux-64::zstd-1.4.9-haebb681_0\n",
            "\n",
            "The following packages will be UPDATED:\n",
            "\n",
            "  ca-certificates                       2021.7.5-h06a4308_1 --> 2022.4.26-h06a4308_0\n",
            "  certifi                          2021.5.30-py37h06a4308_0 --> 2021.10.8-py37h06a4308_2\n",
            "  conda                               4.10.3-py37h06a4308_0 --> 4.12.0-py37h06a4308_0\n",
            "  openssl                                 1.1.1k-h27cfd23_0 --> 1.1.1o-h7f8727e_0\n",
            "\n",
            "\n",
            "Proceed ([y]/n)? y\n",
            "\n",
            "\n",
            "Downloading and Extracting Packages\n",
            "libidn2-2.3.2        | 81 KB     | : 100% 1.0/1 [00:00<00:00, 12.63it/s]\n",
            "numpy-base-1.21.5    | 4.8 MB    | : 100% 1.0/1 [00:00<00:00,  3.60it/s]\n",
            "torchvision-0.12.0   | 27.3 MB   | : 100% 1.0/1 [00:05<00:00,  5.06s/it]\n",
            "ffmpeg-4.3           | 9.9 MB    | : 100% 1.0/1 [00:01<00:00,  1.80s/it]\n",
            "mkl_fft-1.3.1        | 172 KB    | : 100% 1.0/1 [00:00<00:00, 20.38it/s]\n",
            "libunistring-0.9.10  | 536 KB    | : 100% 1.0/1 [00:00<00:00, 16.34it/s]\n",
            "libiconv-1.16        | 736 KB    | : 100% 1.0/1 [00:00<00:00, 17.39it/s]\n",
            "pillow-9.0.1         | 652 KB    | : 100% 1.0/1 [00:00<00:00, 13.26it/s]\n",
            "gmp-6.2.1            | 539 KB    | : 100% 1.0/1 [00:00<00:00, 17.07it/s]\n",
            "gnutls-3.6.15        | 1.0 MB    | : 100% 1.0/1 [00:00<00:00, 15.93it/s]\n",
            "pytorch-mutex-1.0    | 3 KB      | : 100% 1.0/1 [00:00<00:00,  4.62it/s]\n",
            "freetype-2.11.0      | 618 KB    | : 100% 1.0/1 [00:00<00:00, 17.55it/s]\n",
            "bzip2-1.0.8          | 78 KB     | : 100% 1.0/1 [00:00<00:00, 26.57it/s]\n",
            "mkl-service-2.4.0    | 56 KB     | : 100% 1.0/1 [00:00<00:00, 24.68it/s]\n",
            "blas-1.0             | 6 KB      | : 100% 1.0/1 [00:00<00:00, 26.76it/s]\n",
            "libtasn1-4.16.0      | 58 KB     | : 100% 1.0/1 [00:00<00:00, 21.18it/s]\n",
            "nettle-3.7.3         | 809 KB    | : 100% 1.0/1 [00:00<00:00, 15.54it/s]\n",
            "mkl_random-1.2.2     | 287 KB    | : 100% 1.0/1 [00:00<00:00, 18.05it/s]\n",
            "pytorch-1.11.0       | 622.9 MB  | : 100% 1.0/1 [01:29<00:00, 89.67s/it]               \n",
            "jpeg-9e              | 240 KB    | : 100% 1.0/1 [00:00<00:00, 19.77it/s]\n",
            "lcms2-2.12           | 312 KB    | : 100% 1.0/1 [00:00<00:00, 22.95it/s]\n",
            "intel-openmp-2021.4. | 4.2 MB    | : 100% 1.0/1 [00:00<00:00,  6.10it/s]\n",
            "libuv-1.40.0         | 736 KB    | : 100% 1.0/1 [00:00<00:00, 11.59it/s]\n",
            "typing_extensions-4. | 28 KB     | : 100% 1.0/1 [00:00<00:00, 23.26it/s]\n",
            "conda-4.12.0         | 14.5 MB   | : 100% 1.0/1 [00:00<00:00,  1.60it/s]              \n",
            "ca-certificates-2022 | 124 KB    | : 100% 1.0/1 [00:00<00:00, 21.36it/s]\n",
            "libtiff-4.2.0        | 502 KB    | : 100% 1.0/1 [00:00<00:00, 14.56it/s]\n",
            "mkl-2021.4.0         | 142.6 MB  | : 100% 1.0/1 [00:04<00:00,  4.56s/it]               \n",
            "libwebp-base-1.2.2   | 440 KB    | : 100% 1.0/1 [00:00<00:00, 14.24it/s]\n",
            "zstd-1.4.9           | 480 KB    | : 100% 1.0/1 [00:00<00:00, 16.59it/s]\n",
            "certifi-2021.10.8    | 151 KB    | : 100% 1.0/1 [00:00<00:00, 21.58it/s]\n",
            "openssl-1.1.1o       | 2.5 MB    | : 100% 1.0/1 [00:00<00:00,  8.01it/s]\n",
            "lz4-c-1.9.3          | 185 KB    | : 100% 1.0/1 [00:00<00:00, 20.20it/s]\n",
            "openh264-2.1.1       | 711 KB    | : 100% 1.0/1 [00:00<00:00, 13.07it/s]\n",
            "numpy-1.21.5         | 10 KB     | : 100% 1.0/1 [00:00<00:00, 22.06it/s]\n",
            "cudatoolkit-10.2.89  | 365.1 MB  | : 100% 1.0/1 [00:07<00:00,  7.96s/it]               \n",
            "giflib-5.2.1         | 78 KB     | : 100% 1.0/1 [00:00<00:00, 18.33it/s]\n",
            "libpng-1.6.37        | 278 KB    | : 100% 1.0/1 [00:00<00:00, 16.99it/s]\n",
            "libwebp-1.2.2        | 80 KB     | : 100% 1.0/1 [00:00<00:00, 20.97it/s]\n",
            "lame-3.100           | 323 KB    | : 100% 1.0/1 [00:00<00:00, 17.72it/s]\n",
            "Preparing transaction: / \b\b- \b\b\\ \b\b| \b\b/ \b\bdone\n",
            "Verifying transaction: \\ \b\b| \b\b/ \b\b- \b\b\\ \b\b| \b\b/ \b\b- \b\b\\ \b\b| \b\b/ \b\b- \b\b\\ \b\b| \b\b/ \b\b- \b\b\\ \b\b| \b\b/ \b\bdone\n",
            "Executing transaction: \\ \b\b| \b\b/ \b\b- \b\b\\ \b\b| \b\b/ \b\b- \b\b\\ \b\b| \b\b/ \b\b- \b\b\\ \b\b| \b\b/ \b\b- \b\b\\ \b\b| \b\b/ \b\b- \b\b\\ \b\b| \b\b/ \b\b- \b\b\\ \b\b| \b\b/ \b\b- \b\b\\ \b\b| \b\b/ \b\b- \b\b\\ \b\b| \b\b/ \b\b- \b\b\\ \b\b| \b\b/ \b\b- \b\bdone\n"
          ]
        }
      ]
    },
    {
      "cell_type": "code",
      "source": [
        "\n",
        "!pip3 install -r requirements.txt\n"
      ],
      "metadata": {
        "colab": {
          "base_uri": "https://localhost:8080/"
        },
        "id": "eDINwyoUM9GN",
        "outputId": "4ff071b5-7d72-4165-cd6a-521152c3a9c6"
      },
      "execution_count": 42,
      "outputs": [
        {
          "output_type": "stream",
          "name": "stdout",
          "text": [
            "Collecting mmcv==1.3.17\n",
            "  Downloading mmcv-1.3.17.tar.gz (390 kB)\n",
            "\u001b[?25l\r\u001b[K     |▉                               | 10 kB 17.8 MB/s eta 0:00:01\r\u001b[K     |█▊                              | 20 kB 13.2 MB/s eta 0:00:01\r\u001b[K     |██▌                             | 30 kB 9.8 MB/s eta 0:00:01\r\u001b[K     |███▍                            | 40 kB 8.8 MB/s eta 0:00:01\r\u001b[K     |████▏                           | 51 kB 4.8 MB/s eta 0:00:01\r\u001b[K     |█████                           | 61 kB 5.7 MB/s eta 0:00:01\r\u001b[K     |█████▉                          | 71 kB 5.7 MB/s eta 0:00:01\r\u001b[K     |██████▊                         | 81 kB 5.6 MB/s eta 0:00:01\r\u001b[K     |███████▋                        | 92 kB 6.2 MB/s eta 0:00:01\r\u001b[K     |████████▍                       | 102 kB 5.4 MB/s eta 0:00:01\r\u001b[K     |█████████▎                      | 112 kB 5.4 MB/s eta 0:00:01\r\u001b[K     |██████████                      | 122 kB 5.4 MB/s eta 0:00:01\r\u001b[K     |███████████                     | 133 kB 5.4 MB/s eta 0:00:01\r\u001b[K     |███████████▊                    | 143 kB 5.4 MB/s eta 0:00:01\r\u001b[K     |████████████▋                   | 153 kB 5.4 MB/s eta 0:00:01\r\u001b[K     |█████████████▍                  | 163 kB 5.4 MB/s eta 0:00:01\r\u001b[K     |██████████████▎                 | 174 kB 5.4 MB/s eta 0:00:01\r\u001b[K     |███████████████▏                | 184 kB 5.4 MB/s eta 0:00:01\r\u001b[K     |████████████████                | 194 kB 5.4 MB/s eta 0:00:01\r\u001b[K     |████████████████▉               | 204 kB 5.4 MB/s eta 0:00:01\r\u001b[K     |█████████████████▋              | 215 kB 5.4 MB/s eta 0:00:01\r\u001b[K     |██████████████████▌             | 225 kB 5.4 MB/s eta 0:00:01\r\u001b[K     |███████████████████▎            | 235 kB 5.4 MB/s eta 0:00:01\r\u001b[K     |████████████████████▏           | 245 kB 5.4 MB/s eta 0:00:01\r\u001b[K     |█████████████████████           | 256 kB 5.4 MB/s eta 0:00:01\r\u001b[K     |█████████████████████▉          | 266 kB 5.4 MB/s eta 0:00:01\r\u001b[K     |██████████████████████▊         | 276 kB 5.4 MB/s eta 0:00:01\r\u001b[K     |███████████████████████▌        | 286 kB 5.4 MB/s eta 0:00:01\r\u001b[K     |████████████████████████▍       | 296 kB 5.4 MB/s eta 0:00:01\r\u001b[K     |█████████████████████████▏      | 307 kB 5.4 MB/s eta 0:00:01\r\u001b[K     |██████████████████████████      | 317 kB 5.4 MB/s eta 0:00:01\r\u001b[K     |██████████████████████████▉     | 327 kB 5.4 MB/s eta 0:00:01\r\u001b[K     |███████████████████████████▊    | 337 kB 5.4 MB/s eta 0:00:01\r\u001b[K     |████████████████████████████▌   | 348 kB 5.4 MB/s eta 0:00:01\r\u001b[K     |█████████████████████████████▍  | 358 kB 5.4 MB/s eta 0:00:01\r\u001b[K     |██████████████████████████████▎ | 368 kB 5.4 MB/s eta 0:00:01\r\u001b[K     |███████████████████████████████ | 378 kB 5.4 MB/s eta 0:00:01\r\u001b[K     |████████████████████████████████| 389 kB 5.4 MB/s eta 0:00:01\r\u001b[K     |████████████████████████████████| 390 kB 5.4 MB/s \n",
            "\u001b[?25hRequirement already satisfied: mmdet in /usr/local/lib/python3.7/dist-packages (from -r requirements.txt (line 2)) (2.24.1)\n",
            "Requirement already satisfied: torch>=1.1 in /usr/local/lib/python3.7/dist-packages (from -r requirements.txt (line 3)) (1.11.0+cu113)\n",
            "Requirement already satisfied: torchvision in /usr/local/lib/python3.7/dist-packages (from -r requirements.txt (line 4)) (0.12.0+cu113)\n",
            "Requirement already satisfied: lazy_import in /usr/local/lib/python3.7/dist-packages/lazy_import-0.2.2-py3.7.egg (from -r requirements.txt (line 5)) (0.2.2)\n",
            "Requirement already satisfied: addict in /usr/local/lib/python3.7/dist-packages/addict-2.4.0-py3.7.egg (from mmcv==1.3.17->-r requirements.txt (line 1)) (2.4.0)\n",
            "Requirement already satisfied: numpy in /usr/local/lib/python3.7/dist-packages (from mmcv==1.3.17->-r requirements.txt (line 1)) (1.21.6)\n",
            "Requirement already satisfied: packaging in /usr/local/lib/python3.7/dist-packages (from mmcv==1.3.17->-r requirements.txt (line 1)) (21.3)\n",
            "Requirement already satisfied: Pillow in /usr/local/lib/python3.7/dist-packages (from mmcv==1.3.17->-r requirements.txt (line 1)) (7.1.2)\n",
            "Requirement already satisfied: pyyaml in /usr/local/lib/python3.7/dist-packages (from mmcv==1.3.17->-r requirements.txt (line 1)) (3.13)\n",
            "Requirement already satisfied: yapf in /usr/local/lib/python3.7/dist-packages/yapf-0.32.0-py3.7.egg (from mmcv==1.3.17->-r requirements.txt (line 1)) (0.32.0)\n",
            "Requirement already satisfied: typing-extensions in /usr/local/lib/python3.7/dist-packages (from torch>=1.1->-r requirements.txt (line 3)) (4.2.0)\n",
            "Requirement already satisfied: six in /usr/local/lib/python3.7/dist-packages (from mmdet->-r requirements.txt (line 2)) (1.15.0)\n",
            "Requirement already satisfied: pycocotools in /usr/local/lib/python3.7/dist-packages (from mmdet->-r requirements.txt (line 2)) (2.0.4)\n",
            "Requirement already satisfied: matplotlib in /usr/local/lib/python3.7/dist-packages (from mmdet->-r requirements.txt (line 2)) (3.2.2)\n",
            "Requirement already satisfied: terminaltables in /usr/local/lib/python3.7/dist-packages (from mmdet->-r requirements.txt (line 2)) (3.1.10)\n",
            "Requirement already satisfied: requests in /usr/local/lib/python3.7/dist-packages (from torchvision->-r requirements.txt (line 4)) (2.23.0)\n",
            "Requirement already satisfied: kiwisolver>=1.0.1 in /usr/local/lib/python3.7/dist-packages (from matplotlib->mmdet->-r requirements.txt (line 2)) (1.4.2)\n",
            "Requirement already satisfied: pyparsing!=2.0.4,!=2.1.2,!=2.1.6,>=2.0.1 in /usr/local/lib/python3.7/dist-packages (from matplotlib->mmdet->-r requirements.txt (line 2)) (3.0.8)\n",
            "Requirement already satisfied: python-dateutil>=2.1 in /usr/local/lib/python3.7/dist-packages (from matplotlib->mmdet->-r requirements.txt (line 2)) (2.8.2)\n",
            "Requirement already satisfied: cycler>=0.10 in /usr/local/lib/python3.7/dist-packages (from matplotlib->mmdet->-r requirements.txt (line 2)) (0.11.0)\n",
            "Requirement already satisfied: idna<3,>=2.5 in /usr/local/lib/python3.7/dist-packages (from requests->torchvision->-r requirements.txt (line 4)) (2.10)\n",
            "Requirement already satisfied: chardet<4,>=3.0.2 in /usr/local/lib/python3.7/dist-packages (from requests->torchvision->-r requirements.txt (line 4)) (3.0.4)\n",
            "Requirement already satisfied: certifi>=2017.4.17 in /usr/local/lib/python3.7/dist-packages (from requests->torchvision->-r requirements.txt (line 4)) (2021.10.8)\n",
            "Requirement already satisfied: urllib3!=1.25.0,!=1.25.1,<1.26,>=1.21.1 in /usr/local/lib/python3.7/dist-packages (from requests->torchvision->-r requirements.txt (line 4)) (1.24.3)\n",
            "Building wheels for collected packages: mmcv\n",
            "  Building wheel for mmcv (setup.py) ... \u001b[?25l\u001b[?25hdone\n",
            "  Created wheel for mmcv: filename=mmcv-1.3.17-py2.py3-none-any.whl size=573414 sha256=14a2439ce1eb2317de8c780fd0fb4fef292f01d39d45f2e4e958844027952c9a\n",
            "  Stored in directory: /root/.cache/pip/wheels/4d/44/de/6831f4485611ea75714e7e8fad8d12b7f04933481c141f830b\n",
            "Successfully built mmcv\n",
            "Installing collected packages: mmcv\n",
            "  Attempting uninstall: mmcv\n",
            "    Found existing installation: mmcv 0.4.3\n",
            "    Uninstalling mmcv-0.4.3:\n",
            "      Successfully uninstalled mmcv-0.4.3\n",
            "Successfully installed mmcv-1.3.17\n"
          ]
        }
      ]
    },
    {
      "cell_type": "code",
      "source": [
        "!pip install cython"
      ],
      "metadata": {
        "colab": {
          "base_uri": "https://localhost:8080/"
        },
        "id": "6glgZS1aTx0X",
        "outputId": "d1b37f4c-df00-47fa-9104-c025017ed773"
      },
      "execution_count": 13,
      "outputs": [
        {
          "output_type": "stream",
          "name": "stdout",
          "text": [
            "Requirement already satisfied: cython in /usr/local/lib/python3.7/dist-packages (0.29.28)\n"
          ]
        }
      ]
    },
    {
      "cell_type": "code",
      "source": [
        "!sudo lsb_release -a\n",
        "!nvidia-smi\n",
        "!cat /usr/local/cuda/version.txt"
      ],
      "metadata": {
        "colab": {
          "base_uri": "https://localhost:8080/"
        },
        "id": "AyUWZitMVANN",
        "outputId": "e5f64250-5fca-492a-df9d-4fe2e7afb6ff"
      },
      "execution_count": 16,
      "outputs": [
        {
          "output_type": "stream",
          "name": "stdout",
          "text": [
            "No LSB modules are available.\n",
            "Distributor ID:\tUbuntu\n",
            "Description:\tUbuntu 18.04.5 LTS\n",
            "Release:\t18.04\n",
            "Codename:\tbionic\n",
            "Sun May 15 11:10:35 2022       \n",
            "+-----------------------------------------------------------------------------+\n",
            "| NVIDIA-SMI 460.32.03    Driver Version: 460.32.03    CUDA Version: 11.2     |\n",
            "|-------------------------------+----------------------+----------------------+\n",
            "| GPU  Name        Persistence-M| Bus-Id        Disp.A | Volatile Uncorr. ECC |\n",
            "| Fan  Temp  Perf  Pwr:Usage/Cap|         Memory-Usage | GPU-Util  Compute M. |\n",
            "|                               |                      |               MIG M. |\n",
            "|===============================+======================+======================|\n",
            "|   0  Tesla T4            Off  | 00000000:00:04.0 Off |                    0 |\n",
            "| N/A   37C    P8     9W /  70W |      0MiB / 15109MiB |      0%      Default |\n",
            "|                               |                      |                  N/A |\n",
            "+-------------------------------+----------------------+----------------------+\n",
            "                                                                               \n",
            "+-----------------------------------------------------------------------------+\n",
            "| Processes:                                                                  |\n",
            "|  GPU   GI   CI        PID   Type   Process name                  GPU Memory |\n",
            "|        ID   ID                                                   Usage      |\n",
            "|=============================================================================|\n",
            "|  No running processes found                                                 |\n",
            "+-----------------------------------------------------------------------------+\n",
            "cat: /usr/local/cuda/version.txt: No such file or directory\n"
          ]
        }
      ]
    },
    {
      "cell_type": "code",
      "source": [
        "!ls\n",
        "!python ./setup.py develop"
      ],
      "metadata": {
        "colab": {
          "base_uri": "https://localhost:8080/"
        },
        "id": "8zBjZjrHTi6j",
        "outputId": "59d8c25d-ad28-4ae3-ee13-b81e77262538"
      },
      "execution_count": 46,
      "outputs": [
        {
          "output_type": "stream",
          "name": "stdout",
          "text": [
            "build\t     deprecated  mmskeleton.egg-info  requirements.txt\n",
            "checkpoints  doc\t mmskl.py\t      resource\n",
            "configs      LICENSE\t pyproject.toml       setup.py\n",
            "demo\t     mmskeleton  README.md\t      tools\n",
            "/usr/local/lib/python3.7/dist-packages/setuptools/dist.py:484: UserWarning: Normalizing '0.7.rc1+b4c076b' to '0.7rc1+b4c076b'\n",
            "  warnings.warn(tmpl.format(**locals()))\n",
            "running develop\n",
            "running egg_info\n",
            "writing mmskeleton.egg-info/PKG-INFO\n",
            "writing dependency_links to mmskeleton.egg-info/dependency_links.txt\n",
            "writing requirements to mmskeleton.egg-info/requires.txt\n",
            "writing top-level names to mmskeleton.egg-info/top_level.txt\n",
            "/usr/local/lib/python3.7/dist-packages/torch/utils/cpp_extension.py:387: UserWarning: Attempted to use ninja as the BuildExtension backend but we could not find ninja.. Falling back to using the slow distutils backend.\n",
            "  warnings.warn(msg.format('we could not find ninja.'))\n",
            "adding license file 'LICENSE'\n",
            "writing manifest file 'mmskeleton.egg-info/SOURCES.txt'\n",
            "running build_ext\n",
            "/usr/local/lib/python3.7/dist-packages/torch/utils/cpp_extension.py:788: UserWarning: The detected CUDA version (11.1) has a minor version mismatch with the version that was used to compile PyTorch (11.3). Most likely this shouldn't be a problem.\n",
            "  warnings.warn(CUDA_MISMATCH_WARN.format(cuda_str_version, torch.version.cuda))\n",
            "copying build/lib.linux-x86_64-3.7/mmskeleton/ops/nms/cpu_nms.cpython-37m-x86_64-linux-gnu.so -> mmskeleton/ops/nms\n",
            "copying build/lib.linux-x86_64-3.7/mmskeleton/ops/nms/gpu_nms.cpython-37m-x86_64-linux-gnu.so -> mmskeleton/ops/nms\n",
            "Creating /usr/local/lib/python3.7/dist-packages/mmskeleton.egg-link (link to .)\n",
            "mmskeleton 0.7rc1+b4c076b is already the active version in easy-install.pth\n",
            "Installing mmskl script to /usr/local/bin\n",
            "\n",
            "Installed /content/mmskeleton\n",
            "Processing dependencies for mmskeleton==0.7rc1+b4c076b\n",
            "Searching for lazy-import==0.2.2\n",
            "Best match: lazy-import 0.2.2\n",
            "Processing lazy_import-0.2.2-py3.7.egg\n",
            "lazy-import 0.2.2 is already the active version in easy-install.pth\n",
            "\n",
            "Using /usr/local/lib/python3.7/dist-packages/lazy_import-0.2.2-py3.7.egg\n",
            "Searching for torchvision==0.12.0+cu113\n",
            "Best match: torchvision 0.12.0+cu113\n",
            "Adding torchvision 0.12.0+cu113 to easy-install.pth file\n",
            "\n",
            "Using /usr/local/lib/python3.7/dist-packages\n",
            "Searching for torch==1.11.0+cu113\n",
            "Best match: torch 1.11.0+cu113\n",
            "Adding torch 1.11.0+cu113 to easy-install.pth file\n",
            "Installing convert-caffe2-to-onnx script to /usr/local/bin\n",
            "Installing convert-onnx-to-caffe2 script to /usr/local/bin\n",
            "Installing torchrun script to /usr/local/bin\n",
            "\n",
            "Using /usr/local/lib/python3.7/dist-packages\n",
            "Searching for mmcv==1.3.17\n",
            "Best match: mmcv 1.3.17\n",
            "Adding mmcv 1.3.17 to easy-install.pth file\n",
            "\n",
            "Using /usr/local/lib/python3.7/dist-packages\n",
            "Searching for six==1.15.0\n",
            "Best match: six 1.15.0\n",
            "Adding six 1.15.0 to easy-install.pth file\n",
            "\n",
            "Using /usr/local/lib/python3.7/dist-packages\n",
            "Searching for numpy==1.21.6\n",
            "Best match: numpy 1.21.6\n",
            "Adding numpy 1.21.6 to easy-install.pth file\n",
            "Installing f2py script to /usr/local/bin\n",
            "Installing f2py3 script to /usr/local/bin\n",
            "Installing f2py3.7 script to /usr/local/bin\n",
            "\n",
            "Using /usr/local/lib/python3.7/dist-packages\n",
            "Searching for requests==2.23.0\n",
            "Best match: requests 2.23.0\n",
            "Adding requests 2.23.0 to easy-install.pth file\n",
            "\n",
            "Using /usr/local/lib/python3.7/dist-packages\n",
            "Searching for Pillow==7.1.2\n",
            "Best match: Pillow 7.1.2\n",
            "Adding Pillow 7.1.2 to easy-install.pth file\n",
            "\n",
            "Using /usr/local/lib/python3.7/dist-packages\n",
            "Searching for typing-extensions==4.2.0\n",
            "Best match: typing-extensions 4.2.0\n",
            "Adding typing-extensions 4.2.0 to easy-install.pth file\n",
            "\n",
            "Using /usr/local/lib/python3.7/dist-packages\n",
            "Searching for packaging==21.3\n",
            "Best match: packaging 21.3\n",
            "Adding packaging 21.3 to easy-install.pth file\n",
            "\n",
            "Using /usr/local/lib/python3.7/dist-packages\n",
            "Searching for addict==2.4.0\n",
            "Best match: addict 2.4.0\n",
            "Processing addict-2.4.0-py3.7.egg\n",
            "addict 2.4.0 is already the active version in easy-install.pth\n",
            "\n",
            "Using /usr/local/lib/python3.7/dist-packages/addict-2.4.0-py3.7.egg\n",
            "Searching for PyYAML==3.13\n",
            "Best match: PyYAML 3.13\n",
            "Adding PyYAML 3.13 to easy-install.pth file\n",
            "\n",
            "Using /usr/local/lib/python3.7/dist-packages\n",
            "Searching for yapf==0.32.0\n",
            "Best match: yapf 0.32.0\n",
            "Processing yapf-0.32.0-py3.7.egg\n",
            "yapf 0.32.0 is already the active version in easy-install.pth\n",
            "Installing yapf script to /usr/local/bin\n",
            "Installing yapf-diff script to /usr/local/bin\n",
            "\n",
            "Using /usr/local/lib/python3.7/dist-packages/yapf-0.32.0-py3.7.egg\n",
            "Searching for certifi==2021.10.8\n",
            "Best match: certifi 2021.10.8\n",
            "Adding certifi 2021.10.8 to easy-install.pth file\n",
            "\n",
            "Using /usr/local/lib/python3.7/dist-packages\n",
            "Searching for urllib3==1.24.3\n",
            "Best match: urllib3 1.24.3\n",
            "Adding urllib3 1.24.3 to easy-install.pth file\n",
            "\n",
            "Using /usr/local/lib/python3.7/dist-packages\n",
            "Searching for chardet==3.0.4\n",
            "Best match: chardet 3.0.4\n",
            "Adding chardet 3.0.4 to easy-install.pth file\n",
            "Installing chardetect script to /usr/local/bin\n",
            "\n",
            "Using /usr/local/lib/python3.7/dist-packages\n",
            "Searching for idna==2.10\n",
            "Best match: idna 2.10\n",
            "Adding idna 2.10 to easy-install.pth file\n",
            "\n",
            "Using /usr/local/lib/python3.7/dist-packages\n",
            "Searching for pyparsing==3.0.8\n",
            "Best match: pyparsing 3.0.8\n",
            "Adding pyparsing 3.0.8 to easy-install.pth file\n",
            "\n",
            "Using /usr/local/lib/python3.7/dist-packages\n",
            "Finished processing dependencies for mmskeleton==0.7rc1+b4c076b\n"
          ]
        }
      ]
    },
    {
      "cell_type": "code",
      "source": [
        "#!cd mmskeleton/ops/nms/\n",
        "import os\n",
        "os.chdir(\"mmskeleton/ops/nms\")\n",
        "!python setup_linux.py develop"
      ],
      "metadata": {
        "colab": {
          "base_uri": "https://localhost:8080/"
        },
        "id": "Akl2HvxTz_9W",
        "outputId": "0cde0ee9-1dd8-433c-c197-a53621825ff4"
      },
      "execution_count": 16,
      "outputs": [
        {
          "output_type": "stream",
          "name": "stdout",
          "text": [
            "running develop\n",
            "running egg_info\n",
            "creating nms.egg-info\n",
            "writing nms.egg-info/PKG-INFO\n",
            "writing dependency_links to nms.egg-info/dependency_links.txt\n",
            "writing top-level names to nms.egg-info/top_level.txt\n",
            "writing manifest file 'nms.egg-info/SOURCES.txt'\n",
            "writing manifest file 'nms.egg-info/SOURCES.txt'\n",
            "running build_ext\n",
            "cythoning cpu_nms.pyx to cpu_nms.c\n",
            "/usr/local/lib/python3.7/dist-packages/Cython/Compiler/Main.py:369: FutureWarning: Cython directive 'language_level' not set, using 2 for now (Py2). This will change in a later release! File: /content/mmskeleton/mmskeleton/ops/nms/cpu_nms.pyx\n",
            "  tree = Parsing.p_module(s, pxd, full_module_name)\n",
            "skipping 'gpu_nms.cpp' Cython extension (up-to-date)\n",
            "building 'cpu_nms' extension\n",
            "creating build\n",
            "creating build/temp.linux-x86_64-3.7\n",
            "x86_64-linux-gnu-gcc -pthread -Wno-unused-result -Wsign-compare -DNDEBUG -g -fwrapv -O2 -Wall -g -fstack-protector-strong -Wformat -Werror=format-security -g -fwrapv -O2 -g -fstack-protector-strong -Wformat -Werror=format-security -Wdate-time -D_FORTIFY_SOURCE=2 -fPIC -I/usr/local/lib/python3.7/dist-packages/numpy/core/include -I/usr/include/python3.7m -c cpu_nms.c -o build/temp.linux-x86_64-3.7/cpu_nms.o -Wno-cpp -Wno-unused-function\n",
            "x86_64-linux-gnu-gcc -pthread -shared -Wl,-O1 -Wl,-Bsymbolic-functions -Wl,-Bsymbolic-functions -g -fwrapv -O2 -Wl,-Bsymbolic-functions -g -fwrapv -O2 -g -fstack-protector-strong -Wformat -Werror=format-security -Wdate-time -D_FORTIFY_SOURCE=2 build/temp.linux-x86_64-3.7/cpu_nms.o -o /content/mmskeleton/mmskeleton/ops/nms/cpu_nms.cpython-37m-x86_64-linux-gnu.so\n",
            "Creating /usr/local/lib/python3.7/dist-packages/nms.egg-link (link to .)\n",
            "Adding nms 0.0.0 to easy-install.pth file\n",
            "\n",
            "Installed /content/mmskeleton/mmskeleton/ops/nms\n",
            "Processing dependencies for nms==0.0.0\n",
            "Finished processing dependencies for nms==0.0.0\n"
          ]
        }
      ]
    },
    {
      "cell_type": "code",
      "source": [
        "!ls"
      ],
      "metadata": {
        "colab": {
          "base_uri": "https://localhost:8080/"
        },
        "id": "ENKe9eDk0TdO",
        "outputId": "cdfdf531-67ac-4a4f-aced-931215bb3b2c"
      },
      "execution_count": 17,
      "outputs": [
        {
          "output_type": "stream",
          "name": "stdout",
          "text": [
            "build\t\t\t\t\t gpu_nms.hpp\n",
            "cpu_nms.c\t\t\t\t gpu_nms.pyx\n",
            "cpu_nms.cpp\t\t\t\t __init__.py\n",
            "cpu_nms.cpython-37m-x86_64-linux-gnu.so  nms.egg-info\n",
            "cpu_nms.pyx\t\t\t\t nms_kernel.cu\n",
            "gpu_nms.cpp\t\t\t\t nms.py\n",
            "gpu_nms.cpython-37m-x86_64-linux-gnu.so  setup_linux.py\n",
            "gpu_nms.cu\n"
          ]
        }
      ]
    },
    {
      "cell_type": "code",
      "source": [
        "!ls\n",
        "#!cd mmskeleton/ops/nms/\n",
        "import os\n",
        "os.chdir(\"/content/mmskeleton/\")\n",
        "retval2 = os.getcwd()\n",
        "print(retval2)\n",
        "!python mmskl.py pose_demo"
      ],
      "metadata": {
        "colab": {
          "base_uri": "https://localhost:8080/"
        },
        "id": "dvCkoa7b0YM_",
        "outputId": "cf99768e-cf9b-413e-96e3-8183794861b0"
      },
      "execution_count": 48,
      "outputs": [
        {
          "output_type": "stream",
          "name": "stdout",
          "text": [
            "build\t     deprecated  mmskeleton.egg-info  requirements.txt\n",
            "checkpoints  doc\t mmskl.py\t      resource\n",
            "configs      LICENSE\t pyproject.toml       setup.py\n",
            "demo\t     mmskeleton  README.md\t      tools\n",
            "/content/mmskeleton\n",
            "INFO:root:Generating grammar tables from /usr/lib/python3.7/lib2to3/Grammar.txt\n",
            "INFO:root:Generating grammar tables from /usr/lib/python3.7/lib2to3/PatternGrammar.txt\n",
            "Traceback (most recent call last):\n",
            "  File \"mmskl.py\", line 7, in <module>\n",
            "    import mmskeleton\n",
            "  File \"/content/mmskeleton/mmskeleton/__init__.py\", line 1, in <module>\n",
            "    from . import utils\n",
            "  File \"/content/mmskeleton/mmskeleton/utils/__init__.py\", line 1, in <module>\n",
            "    from . import third_party\n",
            "  File \"/content/mmskeleton/mmskeleton/utils/third_party.py\", line 2, in <module>\n",
            "    import mmdet.apis\n",
            "  File \"/usr/local/lib/python3.7/dist-packages/mmdet/apis/__init__.py\", line 2, in <module>\n",
            "    from .inference import (async_inference_detector, inference_detector,\n",
            "  File \"/usr/local/lib/python3.7/dist-packages/mmdet/apis/inference.py\", line 8, in <module>\n",
            "    from mmcv.ops import RoIPool\n",
            "  File \"/usr/local/lib/python3.7/dist-packages/mmcv/ops/__init__.py\", line 2, in <module>\n",
            "    from .assign_score_withk import assign_score_withk\n",
            "  File \"/usr/local/lib/python3.7/dist-packages/mmcv/ops/assign_score_withk.py\", line 6, in <module>\n",
            "    '_ext', ['assign_score_withk_forward', 'assign_score_withk_backward'])\n",
            "  File \"/usr/local/lib/python3.7/dist-packages/mmcv/utils/ext_loader.py\", line 13, in load_ext\n",
            "    ext = importlib.import_module('mmcv.' + name)\n",
            "  File \"/usr/lib/python3.7/importlib/__init__.py\", line 127, in import_module\n",
            "    return _bootstrap._gcd_import(name[level:], package, level)\n",
            "ModuleNotFoundError: No module named 'mmcv._ext'\n"
          ]
        }
      ]
    }
  ]
}